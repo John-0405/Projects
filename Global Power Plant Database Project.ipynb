{
 "cells": [
  {
   "cell_type": "code",
   "execution_count": 1,
   "metadata": {},
   "outputs": [],
   "source": [
    "import numpy as np\n",
    "import pandas as pd\n",
    "import matplotlib.pyplot as plt\n",
    "import seaborn as sns\n",
    "import warnings\n",
    "warnings.filterwarnings('ignore')"
   ]
  },
  {
   "cell_type": "code",
   "execution_count": 2,
   "metadata": {},
   "outputs": [
    {
     "data": {
      "text/html": [
       "<div>\n",
       "<style scoped>\n",
       "    .dataframe tbody tr th:only-of-type {\n",
       "        vertical-align: middle;\n",
       "    }\n",
       "\n",
       "    .dataframe tbody tr th {\n",
       "        vertical-align: top;\n",
       "    }\n",
       "\n",
       "    .dataframe thead th {\n",
       "        text-align: right;\n",
       "    }\n",
       "</style>\n",
       "<table border=\"1\" class=\"dataframe\">\n",
       "  <thead>\n",
       "    <tr style=\"text-align: right;\">\n",
       "      <th></th>\n",
       "      <th>country</th>\n",
       "      <th>country_long</th>\n",
       "      <th>name</th>\n",
       "      <th>gppd_idnr</th>\n",
       "      <th>capacity_mw</th>\n",
       "      <th>latitude</th>\n",
       "      <th>longitude</th>\n",
       "      <th>primary_fuel</th>\n",
       "      <th>other_fuel1</th>\n",
       "      <th>other_fuel2</th>\n",
       "      <th>...</th>\n",
       "      <th>geolocation_source</th>\n",
       "      <th>wepp_id</th>\n",
       "      <th>year_of_capacity_data</th>\n",
       "      <th>generation_gwh_2013</th>\n",
       "      <th>generation_gwh_2014</th>\n",
       "      <th>generation_gwh_2015</th>\n",
       "      <th>generation_gwh_2016</th>\n",
       "      <th>generation_gwh_2017</th>\n",
       "      <th>generation_data_source</th>\n",
       "      <th>estimated_generation_gwh</th>\n",
       "    </tr>\n",
       "  </thead>\n",
       "  <tbody>\n",
       "    <tr>\n",
       "      <th>0</th>\n",
       "      <td>IND</td>\n",
       "      <td>India</td>\n",
       "      <td>ACME Solar Tower</td>\n",
       "      <td>WRI1020239</td>\n",
       "      <td>2.5</td>\n",
       "      <td>28.1839</td>\n",
       "      <td>73.2407</td>\n",
       "      <td>Solar</td>\n",
       "      <td>NaN</td>\n",
       "      <td>NaN</td>\n",
       "      <td>...</td>\n",
       "      <td>National Renewable Energy Laboratory</td>\n",
       "      <td>NaN</td>\n",
       "      <td>NaN</td>\n",
       "      <td>NaN</td>\n",
       "      <td>NaN</td>\n",
       "      <td>NaN</td>\n",
       "      <td>NaN</td>\n",
       "      <td>NaN</td>\n",
       "      <td>NaN</td>\n",
       "      <td>NaN</td>\n",
       "    </tr>\n",
       "    <tr>\n",
       "      <th>1</th>\n",
       "      <td>IND</td>\n",
       "      <td>India</td>\n",
       "      <td>ADITYA CEMENT WORKS</td>\n",
       "      <td>WRI1019881</td>\n",
       "      <td>98.0</td>\n",
       "      <td>24.7663</td>\n",
       "      <td>74.6090</td>\n",
       "      <td>Coal</td>\n",
       "      <td>NaN</td>\n",
       "      <td>NaN</td>\n",
       "      <td>...</td>\n",
       "      <td>WRI</td>\n",
       "      <td>NaN</td>\n",
       "      <td>NaN</td>\n",
       "      <td>NaN</td>\n",
       "      <td>NaN</td>\n",
       "      <td>NaN</td>\n",
       "      <td>NaN</td>\n",
       "      <td>NaN</td>\n",
       "      <td>NaN</td>\n",
       "      <td>NaN</td>\n",
       "    </tr>\n",
       "    <tr>\n",
       "      <th>2</th>\n",
       "      <td>IND</td>\n",
       "      <td>India</td>\n",
       "      <td>AES Saurashtra Windfarms</td>\n",
       "      <td>WRI1026669</td>\n",
       "      <td>39.2</td>\n",
       "      <td>21.9038</td>\n",
       "      <td>69.3732</td>\n",
       "      <td>Wind</td>\n",
       "      <td>NaN</td>\n",
       "      <td>NaN</td>\n",
       "      <td>...</td>\n",
       "      <td>WRI</td>\n",
       "      <td>NaN</td>\n",
       "      <td>NaN</td>\n",
       "      <td>NaN</td>\n",
       "      <td>NaN</td>\n",
       "      <td>NaN</td>\n",
       "      <td>NaN</td>\n",
       "      <td>NaN</td>\n",
       "      <td>NaN</td>\n",
       "      <td>NaN</td>\n",
       "    </tr>\n",
       "    <tr>\n",
       "      <th>3</th>\n",
       "      <td>IND</td>\n",
       "      <td>India</td>\n",
       "      <td>AGARTALA GT</td>\n",
       "      <td>IND0000001</td>\n",
       "      <td>135.0</td>\n",
       "      <td>23.8712</td>\n",
       "      <td>91.3602</td>\n",
       "      <td>Gas</td>\n",
       "      <td>NaN</td>\n",
       "      <td>NaN</td>\n",
       "      <td>...</td>\n",
       "      <td>WRI</td>\n",
       "      <td>NaN</td>\n",
       "      <td>2018.0</td>\n",
       "      <td>631.777928</td>\n",
       "      <td>617.789264</td>\n",
       "      <td>843.747000</td>\n",
       "      <td>886.004428</td>\n",
       "      <td>663.774500</td>\n",
       "      <td>Central Electricity Authority</td>\n",
       "      <td>NaN</td>\n",
       "    </tr>\n",
       "    <tr>\n",
       "      <th>4</th>\n",
       "      <td>IND</td>\n",
       "      <td>India</td>\n",
       "      <td>AKALTARA TPP</td>\n",
       "      <td>IND0000002</td>\n",
       "      <td>1800.0</td>\n",
       "      <td>21.9603</td>\n",
       "      <td>82.4091</td>\n",
       "      <td>Coal</td>\n",
       "      <td>Oil</td>\n",
       "      <td>NaN</td>\n",
       "      <td>...</td>\n",
       "      <td>WRI</td>\n",
       "      <td>NaN</td>\n",
       "      <td>2018.0</td>\n",
       "      <td>1668.290000</td>\n",
       "      <td>3035.550000</td>\n",
       "      <td>5916.370000</td>\n",
       "      <td>6243.000000</td>\n",
       "      <td>5385.579736</td>\n",
       "      <td>Central Electricity Authority</td>\n",
       "      <td>NaN</td>\n",
       "    </tr>\n",
       "    <tr>\n",
       "      <th>...</th>\n",
       "      <td>...</td>\n",
       "      <td>...</td>\n",
       "      <td>...</td>\n",
       "      <td>...</td>\n",
       "      <td>...</td>\n",
       "      <td>...</td>\n",
       "      <td>...</td>\n",
       "      <td>...</td>\n",
       "      <td>...</td>\n",
       "      <td>...</td>\n",
       "      <td>...</td>\n",
       "      <td>...</td>\n",
       "      <td>...</td>\n",
       "      <td>...</td>\n",
       "      <td>...</td>\n",
       "      <td>...</td>\n",
       "      <td>...</td>\n",
       "      <td>...</td>\n",
       "      <td>...</td>\n",
       "      <td>...</td>\n",
       "      <td>...</td>\n",
       "    </tr>\n",
       "    <tr>\n",
       "      <th>903</th>\n",
       "      <td>IND</td>\n",
       "      <td>India</td>\n",
       "      <td>YERMARUS TPP</td>\n",
       "      <td>IND0000513</td>\n",
       "      <td>1600.0</td>\n",
       "      <td>16.2949</td>\n",
       "      <td>77.3568</td>\n",
       "      <td>Coal</td>\n",
       "      <td>Oil</td>\n",
       "      <td>NaN</td>\n",
       "      <td>...</td>\n",
       "      <td>WRI</td>\n",
       "      <td>NaN</td>\n",
       "      <td>2018.0</td>\n",
       "      <td>NaN</td>\n",
       "      <td>NaN</td>\n",
       "      <td>0.994875</td>\n",
       "      <td>233.596650</td>\n",
       "      <td>865.400000</td>\n",
       "      <td>Central Electricity Authority</td>\n",
       "      <td>NaN</td>\n",
       "    </tr>\n",
       "    <tr>\n",
       "      <th>904</th>\n",
       "      <td>IND</td>\n",
       "      <td>India</td>\n",
       "      <td>Yelesandra Solar Power Plant</td>\n",
       "      <td>WRI1026222</td>\n",
       "      <td>3.0</td>\n",
       "      <td>12.8932</td>\n",
       "      <td>78.1654</td>\n",
       "      <td>Solar</td>\n",
       "      <td>NaN</td>\n",
       "      <td>NaN</td>\n",
       "      <td>...</td>\n",
       "      <td>Industry About</td>\n",
       "      <td>NaN</td>\n",
       "      <td>NaN</td>\n",
       "      <td>NaN</td>\n",
       "      <td>NaN</td>\n",
       "      <td>NaN</td>\n",
       "      <td>NaN</td>\n",
       "      <td>NaN</td>\n",
       "      <td>NaN</td>\n",
       "      <td>NaN</td>\n",
       "    </tr>\n",
       "    <tr>\n",
       "      <th>905</th>\n",
       "      <td>IND</td>\n",
       "      <td>India</td>\n",
       "      <td>Yelisirur wind power project</td>\n",
       "      <td>WRI1026776</td>\n",
       "      <td>25.5</td>\n",
       "      <td>15.2758</td>\n",
       "      <td>75.5811</td>\n",
       "      <td>Wind</td>\n",
       "      <td>NaN</td>\n",
       "      <td>NaN</td>\n",
       "      <td>...</td>\n",
       "      <td>WRI</td>\n",
       "      <td>NaN</td>\n",
       "      <td>NaN</td>\n",
       "      <td>NaN</td>\n",
       "      <td>NaN</td>\n",
       "      <td>NaN</td>\n",
       "      <td>NaN</td>\n",
       "      <td>NaN</td>\n",
       "      <td>NaN</td>\n",
       "      <td>NaN</td>\n",
       "    </tr>\n",
       "    <tr>\n",
       "      <th>906</th>\n",
       "      <td>IND</td>\n",
       "      <td>India</td>\n",
       "      <td>ZAWAR MINES</td>\n",
       "      <td>WRI1019901</td>\n",
       "      <td>80.0</td>\n",
       "      <td>24.3500</td>\n",
       "      <td>73.7477</td>\n",
       "      <td>Coal</td>\n",
       "      <td>NaN</td>\n",
       "      <td>NaN</td>\n",
       "      <td>...</td>\n",
       "      <td>WRI</td>\n",
       "      <td>NaN</td>\n",
       "      <td>NaN</td>\n",
       "      <td>NaN</td>\n",
       "      <td>NaN</td>\n",
       "      <td>NaN</td>\n",
       "      <td>NaN</td>\n",
       "      <td>NaN</td>\n",
       "      <td>NaN</td>\n",
       "      <td>NaN</td>\n",
       "    </tr>\n",
       "    <tr>\n",
       "      <th>907</th>\n",
       "      <td>IND</td>\n",
       "      <td>India</td>\n",
       "      <td>iEnergy Theni Wind Farm</td>\n",
       "      <td>WRI1026761</td>\n",
       "      <td>16.5</td>\n",
       "      <td>9.9344</td>\n",
       "      <td>77.4768</td>\n",
       "      <td>Wind</td>\n",
       "      <td>NaN</td>\n",
       "      <td>NaN</td>\n",
       "      <td>...</td>\n",
       "      <td>WRI</td>\n",
       "      <td>NaN</td>\n",
       "      <td>NaN</td>\n",
       "      <td>NaN</td>\n",
       "      <td>NaN</td>\n",
       "      <td>NaN</td>\n",
       "      <td>NaN</td>\n",
       "      <td>NaN</td>\n",
       "      <td>NaN</td>\n",
       "      <td>NaN</td>\n",
       "    </tr>\n",
       "  </tbody>\n",
       "</table>\n",
       "<p>908 rows × 25 columns</p>\n",
       "</div>"
      ],
      "text/plain": [
       "    country country_long                          name   gppd_idnr  \\\n",
       "0       IND        India              ACME Solar Tower  WRI1020239   \n",
       "1       IND        India           ADITYA CEMENT WORKS  WRI1019881   \n",
       "2       IND        India      AES Saurashtra Windfarms  WRI1026669   \n",
       "3       IND        India                   AGARTALA GT  IND0000001   \n",
       "4       IND        India                  AKALTARA TPP  IND0000002   \n",
       "..      ...          ...                           ...         ...   \n",
       "903     IND        India                  YERMARUS TPP  IND0000513   \n",
       "904     IND        India  Yelesandra Solar Power Plant  WRI1026222   \n",
       "905     IND        India  Yelisirur wind power project  WRI1026776   \n",
       "906     IND        India                   ZAWAR MINES  WRI1019901   \n",
       "907     IND        India       iEnergy Theni Wind Farm  WRI1026761   \n",
       "\n",
       "     capacity_mw  latitude  longitude primary_fuel other_fuel1 other_fuel2  \\\n",
       "0            2.5   28.1839    73.2407        Solar         NaN         NaN   \n",
       "1           98.0   24.7663    74.6090         Coal         NaN         NaN   \n",
       "2           39.2   21.9038    69.3732         Wind         NaN         NaN   \n",
       "3          135.0   23.8712    91.3602          Gas         NaN         NaN   \n",
       "4         1800.0   21.9603    82.4091         Coal         Oil         NaN   \n",
       "..           ...       ...        ...          ...         ...         ...   \n",
       "903       1600.0   16.2949    77.3568         Coal         Oil         NaN   \n",
       "904          3.0   12.8932    78.1654        Solar         NaN         NaN   \n",
       "905         25.5   15.2758    75.5811         Wind         NaN         NaN   \n",
       "906         80.0   24.3500    73.7477         Coal         NaN         NaN   \n",
       "907         16.5    9.9344    77.4768         Wind         NaN         NaN   \n",
       "\n",
       "     ...                    geolocation_source  wepp_id year_of_capacity_data  \\\n",
       "0    ...  National Renewable Energy Laboratory      NaN                   NaN   \n",
       "1    ...                                   WRI      NaN                   NaN   \n",
       "2    ...                                   WRI      NaN                   NaN   \n",
       "3    ...                                   WRI      NaN                2018.0   \n",
       "4    ...                                   WRI      NaN                2018.0   \n",
       "..   ...                                   ...      ...                   ...   \n",
       "903  ...                                   WRI      NaN                2018.0   \n",
       "904  ...                        Industry About      NaN                   NaN   \n",
       "905  ...                                   WRI      NaN                   NaN   \n",
       "906  ...                                   WRI      NaN                   NaN   \n",
       "907  ...                                   WRI      NaN                   NaN   \n",
       "\n",
       "    generation_gwh_2013 generation_gwh_2014 generation_gwh_2015  \\\n",
       "0                   NaN                 NaN                 NaN   \n",
       "1                   NaN                 NaN                 NaN   \n",
       "2                   NaN                 NaN                 NaN   \n",
       "3            631.777928          617.789264          843.747000   \n",
       "4           1668.290000         3035.550000         5916.370000   \n",
       "..                  ...                 ...                 ...   \n",
       "903                 NaN                 NaN            0.994875   \n",
       "904                 NaN                 NaN                 NaN   \n",
       "905                 NaN                 NaN                 NaN   \n",
       "906                 NaN                 NaN                 NaN   \n",
       "907                 NaN                 NaN                 NaN   \n",
       "\n",
       "     generation_gwh_2016  generation_gwh_2017         generation_data_source  \\\n",
       "0                    NaN                  NaN                            NaN   \n",
       "1                    NaN                  NaN                            NaN   \n",
       "2                    NaN                  NaN                            NaN   \n",
       "3             886.004428           663.774500  Central Electricity Authority   \n",
       "4            6243.000000          5385.579736  Central Electricity Authority   \n",
       "..                   ...                  ...                            ...   \n",
       "903           233.596650           865.400000  Central Electricity Authority   \n",
       "904                  NaN                  NaN                            NaN   \n",
       "905                  NaN                  NaN                            NaN   \n",
       "906                  NaN                  NaN                            NaN   \n",
       "907                  NaN                  NaN                            NaN   \n",
       "\n",
       "     estimated_generation_gwh  \n",
       "0                         NaN  \n",
       "1                         NaN  \n",
       "2                         NaN  \n",
       "3                         NaN  \n",
       "4                         NaN  \n",
       "..                        ...  \n",
       "903                       NaN  \n",
       "904                       NaN  \n",
       "905                       NaN  \n",
       "906                       NaN  \n",
       "907                       NaN  \n",
       "\n",
       "[908 rows x 25 columns]"
      ]
     },
     "execution_count": 2,
     "metadata": {},
     "output_type": "execute_result"
    }
   ],
   "source": [
    "df=pd.read_csv(\"https://raw.githubusercontent.com/wri/global-power-plant-database/master/source_databases_csv/database_IND.csv\")\n",
    "df"
   ]
  },
  {
   "cell_type": "code",
   "execution_count": 3,
   "metadata": {},
   "outputs": [
    {
     "data": {
      "text/plain": [
       "(908, 25)"
      ]
     },
     "execution_count": 3,
     "metadata": {},
     "output_type": "execute_result"
    }
   ],
   "source": [
    "df.shape"
   ]
  },
  {
   "cell_type": "code",
   "execution_count": 4,
   "metadata": {},
   "outputs": [
    {
     "data": {
      "text/plain": [
       "country                      object\n",
       "country_long                 object\n",
       "name                         object\n",
       "gppd_idnr                    object\n",
       "capacity_mw                 float64\n",
       "latitude                    float64\n",
       "longitude                   float64\n",
       "primary_fuel                 object\n",
       "other_fuel1                  object\n",
       "other_fuel2                  object\n",
       "other_fuel3                 float64\n",
       "commissioning_year          float64\n",
       "owner                        object\n",
       "source                       object\n",
       "url                          object\n",
       "geolocation_source           object\n",
       "wepp_id                     float64\n",
       "year_of_capacity_data       float64\n",
       "generation_gwh_2013         float64\n",
       "generation_gwh_2014         float64\n",
       "generation_gwh_2015         float64\n",
       "generation_gwh_2016         float64\n",
       "generation_gwh_2017         float64\n",
       "generation_data_source       object\n",
       "estimated_generation_gwh    float64\n",
       "dtype: object"
      ]
     },
     "execution_count": 4,
     "metadata": {},
     "output_type": "execute_result"
    }
   ],
   "source": [
    "df.dtypes"
   ]
  },
  {
   "cell_type": "code",
   "execution_count": 5,
   "metadata": {},
   "outputs": [
    {
     "data": {
      "text/plain": [
       "country                       0\n",
       "country_long                  0\n",
       "name                          0\n",
       "gppd_idnr                     0\n",
       "capacity_mw                   0\n",
       "latitude                     46\n",
       "longitude                    46\n",
       "primary_fuel                  0\n",
       "other_fuel1                 709\n",
       "other_fuel2                 907\n",
       "other_fuel3                 908\n",
       "commissioning_year          380\n",
       "owner                       566\n",
       "source                        0\n",
       "url                           0\n",
       "geolocation_source           19\n",
       "wepp_id                     908\n",
       "year_of_capacity_data       388\n",
       "generation_gwh_2013         524\n",
       "generation_gwh_2014         507\n",
       "generation_gwh_2015         483\n",
       "generation_gwh_2016         471\n",
       "generation_gwh_2017         465\n",
       "generation_data_source      458\n",
       "estimated_generation_gwh    908\n",
       "dtype: int64"
      ]
     },
     "execution_count": 5,
     "metadata": {},
     "output_type": "execute_result"
    }
   ],
   "source": [
    "df.isnull().sum()"
   ]
  },
  {
   "cell_type": "markdown",
   "metadata": {},
   "source": [
    "There are many NaN values which need to be filled"
   ]
  },
  {
   "cell_type": "code",
   "execution_count": 6,
   "metadata": {},
   "outputs": [
    {
     "data": {
      "text/html": [
       "<div>\n",
       "<style scoped>\n",
       "    .dataframe tbody tr th:only-of-type {\n",
       "        vertical-align: middle;\n",
       "    }\n",
       "\n",
       "    .dataframe tbody tr th {\n",
       "        vertical-align: top;\n",
       "    }\n",
       "\n",
       "    .dataframe thead th {\n",
       "        text-align: right;\n",
       "    }\n",
       "</style>\n",
       "<table border=\"1\" class=\"dataframe\">\n",
       "  <thead>\n",
       "    <tr style=\"text-align: right;\">\n",
       "      <th></th>\n",
       "      <th>capacity_mw</th>\n",
       "      <th>latitude</th>\n",
       "      <th>longitude</th>\n",
       "      <th>other_fuel3</th>\n",
       "      <th>commissioning_year</th>\n",
       "      <th>wepp_id</th>\n",
       "      <th>year_of_capacity_data</th>\n",
       "      <th>generation_gwh_2013</th>\n",
       "      <th>generation_gwh_2014</th>\n",
       "      <th>generation_gwh_2015</th>\n",
       "      <th>generation_gwh_2016</th>\n",
       "      <th>generation_gwh_2017</th>\n",
       "      <th>estimated_generation_gwh</th>\n",
       "    </tr>\n",
       "  </thead>\n",
       "  <tbody>\n",
       "    <tr>\n",
       "      <th>count</th>\n",
       "      <td>908.000000</td>\n",
       "      <td>862.000000</td>\n",
       "      <td>862.000000</td>\n",
       "      <td>0.0</td>\n",
       "      <td>528.000000</td>\n",
       "      <td>0.0</td>\n",
       "      <td>520.0</td>\n",
       "      <td>384.000000</td>\n",
       "      <td>401.000000</td>\n",
       "      <td>425.000000</td>\n",
       "      <td>437.000000</td>\n",
       "      <td>443.000000</td>\n",
       "      <td>0.0</td>\n",
       "    </tr>\n",
       "    <tr>\n",
       "      <th>mean</th>\n",
       "      <td>321.046378</td>\n",
       "      <td>21.196189</td>\n",
       "      <td>77.447848</td>\n",
       "      <td>NaN</td>\n",
       "      <td>1996.876894</td>\n",
       "      <td>NaN</td>\n",
       "      <td>2018.0</td>\n",
       "      <td>2304.059202</td>\n",
       "      <td>2420.393316</td>\n",
       "      <td>2414.072373</td>\n",
       "      <td>2453.936292</td>\n",
       "      <td>2531.754458</td>\n",
       "      <td>NaN</td>\n",
       "    </tr>\n",
       "    <tr>\n",
       "      <th>std</th>\n",
       "      <td>580.221767</td>\n",
       "      <td>6.248627</td>\n",
       "      <td>4.907260</td>\n",
       "      <td>NaN</td>\n",
       "      <td>17.047817</td>\n",
       "      <td>NaN</td>\n",
       "      <td>0.0</td>\n",
       "      <td>3794.767492</td>\n",
       "      <td>4013.558173</td>\n",
       "      <td>4183.203199</td>\n",
       "      <td>4152.038216</td>\n",
       "      <td>4187.236364</td>\n",
       "      <td>NaN</td>\n",
       "    </tr>\n",
       "    <tr>\n",
       "      <th>min</th>\n",
       "      <td>0.000000</td>\n",
       "      <td>8.168900</td>\n",
       "      <td>68.644700</td>\n",
       "      <td>NaN</td>\n",
       "      <td>1927.000000</td>\n",
       "      <td>NaN</td>\n",
       "      <td>2018.0</td>\n",
       "      <td>0.000000</td>\n",
       "      <td>0.000000</td>\n",
       "      <td>0.000000</td>\n",
       "      <td>0.000000</td>\n",
       "      <td>0.000000</td>\n",
       "      <td>NaN</td>\n",
       "    </tr>\n",
       "    <tr>\n",
       "      <th>25%</th>\n",
       "      <td>16.837500</td>\n",
       "      <td>16.771575</td>\n",
       "      <td>74.258975</td>\n",
       "      <td>NaN</td>\n",
       "      <td>1988.000000</td>\n",
       "      <td>NaN</td>\n",
       "      <td>2018.0</td>\n",
       "      <td>244.458088</td>\n",
       "      <td>223.650436</td>\n",
       "      <td>174.174750</td>\n",
       "      <td>187.193669</td>\n",
       "      <td>177.643170</td>\n",
       "      <td>NaN</td>\n",
       "    </tr>\n",
       "    <tr>\n",
       "      <th>50%</th>\n",
       "      <td>60.000000</td>\n",
       "      <td>21.778300</td>\n",
       "      <td>76.719250</td>\n",
       "      <td>NaN</td>\n",
       "      <td>2000.000000</td>\n",
       "      <td>NaN</td>\n",
       "      <td>2018.0</td>\n",
       "      <td>797.063475</td>\n",
       "      <td>805.760000</td>\n",
       "      <td>701.027250</td>\n",
       "      <td>716.728350</td>\n",
       "      <td>807.601700</td>\n",
       "      <td>NaN</td>\n",
       "    </tr>\n",
       "    <tr>\n",
       "      <th>75%</th>\n",
       "      <td>388.125000</td>\n",
       "      <td>25.516375</td>\n",
       "      <td>79.441475</td>\n",
       "      <td>NaN</td>\n",
       "      <td>2011.250000</td>\n",
       "      <td>NaN</td>\n",
       "      <td>2018.0</td>\n",
       "      <td>2795.021500</td>\n",
       "      <td>3034.575000</td>\n",
       "      <td>3080.000000</td>\n",
       "      <td>3263.483000</td>\n",
       "      <td>3258.785000</td>\n",
       "      <td>NaN</td>\n",
       "    </tr>\n",
       "    <tr>\n",
       "      <th>max</th>\n",
       "      <td>4760.000000</td>\n",
       "      <td>34.649000</td>\n",
       "      <td>95.408000</td>\n",
       "      <td>NaN</td>\n",
       "      <td>2018.000000</td>\n",
       "      <td>NaN</td>\n",
       "      <td>2018.0</td>\n",
       "      <td>27586.200000</td>\n",
       "      <td>28127.000000</td>\n",
       "      <td>30539.000000</td>\n",
       "      <td>30015.000000</td>\n",
       "      <td>35116.000000</td>\n",
       "      <td>NaN</td>\n",
       "    </tr>\n",
       "  </tbody>\n",
       "</table>\n",
       "</div>"
      ],
      "text/plain": [
       "       capacity_mw    latitude   longitude  other_fuel3  commissioning_year  \\\n",
       "count   908.000000  862.000000  862.000000          0.0          528.000000   \n",
       "mean    321.046378   21.196189   77.447848          NaN         1996.876894   \n",
       "std     580.221767    6.248627    4.907260          NaN           17.047817   \n",
       "min       0.000000    8.168900   68.644700          NaN         1927.000000   \n",
       "25%      16.837500   16.771575   74.258975          NaN         1988.000000   \n",
       "50%      60.000000   21.778300   76.719250          NaN         2000.000000   \n",
       "75%     388.125000   25.516375   79.441475          NaN         2011.250000   \n",
       "max    4760.000000   34.649000   95.408000          NaN         2018.000000   \n",
       "\n",
       "       wepp_id  year_of_capacity_data  generation_gwh_2013  \\\n",
       "count      0.0                  520.0           384.000000   \n",
       "mean       NaN                 2018.0          2304.059202   \n",
       "std        NaN                    0.0          3794.767492   \n",
       "min        NaN                 2018.0             0.000000   \n",
       "25%        NaN                 2018.0           244.458088   \n",
       "50%        NaN                 2018.0           797.063475   \n",
       "75%        NaN                 2018.0          2795.021500   \n",
       "max        NaN                 2018.0         27586.200000   \n",
       "\n",
       "       generation_gwh_2014  generation_gwh_2015  generation_gwh_2016  \\\n",
       "count           401.000000           425.000000           437.000000   \n",
       "mean           2420.393316          2414.072373          2453.936292   \n",
       "std            4013.558173          4183.203199          4152.038216   \n",
       "min               0.000000             0.000000             0.000000   \n",
       "25%             223.650436           174.174750           187.193669   \n",
       "50%             805.760000           701.027250           716.728350   \n",
       "75%            3034.575000          3080.000000          3263.483000   \n",
       "max           28127.000000         30539.000000         30015.000000   \n",
       "\n",
       "       generation_gwh_2017  estimated_generation_gwh  \n",
       "count           443.000000                       0.0  \n",
       "mean           2531.754458                       NaN  \n",
       "std            4187.236364                       NaN  \n",
       "min               0.000000                       NaN  \n",
       "25%             177.643170                       NaN  \n",
       "50%             807.601700                       NaN  \n",
       "75%            3258.785000                       NaN  \n",
       "max           35116.000000                       NaN  "
      ]
     },
     "execution_count": 6,
     "metadata": {},
     "output_type": "execute_result"
    }
   ],
   "source": [
    "df.describe()"
   ]
  },
  {
   "cell_type": "code",
   "execution_count": 7,
   "metadata": {},
   "outputs": [],
   "source": [
    "df['latitude'].fillna(int(df['latitude'].mean()), inplace=True)\n",
    "df['longitude'].fillna(int(df['longitude'].mean()), inplace=True)\n",
    "df['commissioning_year'].fillna(int(df['commissioning_year'].mean()), inplace=True)\n",
    "df['year_of_capacity_data'].fillna(int(df['year_of_capacity_data'].mean()), inplace=True)"
   ]
  },
  {
   "cell_type": "markdown",
   "metadata": {},
   "source": [
    "### Dropping columns which do not add value to the prediction"
   ]
  },
  {
   "cell_type": "code",
   "execution_count": 8,
   "metadata": {},
   "outputs": [],
   "source": [
    "df.drop(['owner'], axis = 1, inplace = True)\n",
    "df.drop(['other_fuel1'], axis = 1, inplace = True)\n",
    "df.drop(['other_fuel2'], axis = 1, inplace = True)\n",
    "df.drop(['other_fuel3'], axis = 1, inplace = True)"
   ]
  },
  {
   "cell_type": "code",
   "execution_count": 9,
   "metadata": {},
   "outputs": [],
   "source": [
    "df.drop(['geolocation_source'], axis = 1, inplace = True)\n",
    "df.drop(['wepp_id'], axis = 1, inplace = True)"
   ]
  },
  {
   "cell_type": "code",
   "execution_count": 10,
   "metadata": {},
   "outputs": [],
   "source": [
    "df['generation_gwh_2013'].fillna(int(df['generation_gwh_2013'].mean()), inplace=True)\n",
    "df['generation_gwh_2014'].fillna(int(df['generation_gwh_2014'].mean()), inplace=True)\n",
    "df['generation_gwh_2015'].fillna(int(df['generation_gwh_2015'].mean()), inplace=True)\n",
    "df['generation_gwh_2016'].fillna(int(df['generation_gwh_2016'].mean()), inplace=True)\n",
    "df['generation_gwh_2017'].fillna(int(df['generation_gwh_2017'].mean()), inplace=True)\n",
    "df['generation_data_source'] = df['generation_data_source'].fillna('Central Electricity Authority')"
   ]
  },
  {
   "cell_type": "code",
   "execution_count": 11,
   "metadata": {},
   "outputs": [
    {
     "data": {
      "text/plain": [
       "country                       0\n",
       "country_long                  0\n",
       "name                          0\n",
       "gppd_idnr                     0\n",
       "capacity_mw                   0\n",
       "latitude                      0\n",
       "longitude                     0\n",
       "primary_fuel                  0\n",
       "commissioning_year            0\n",
       "source                        0\n",
       "url                           0\n",
       "year_of_capacity_data         0\n",
       "generation_gwh_2013           0\n",
       "generation_gwh_2014           0\n",
       "generation_gwh_2015           0\n",
       "generation_gwh_2016           0\n",
       "generation_gwh_2017           0\n",
       "generation_data_source        0\n",
       "estimated_generation_gwh    908\n",
       "dtype: int64"
      ]
     },
     "execution_count": 11,
     "metadata": {},
     "output_type": "execute_result"
    }
   ],
   "source": [
    "df.isnull().sum()"
   ]
  },
  {
   "cell_type": "code",
   "execution_count": 12,
   "metadata": {},
   "outputs": [
    {
     "data": {
      "text/plain": [
       "array([nan])"
      ]
     },
     "execution_count": 12,
     "metadata": {},
     "output_type": "execute_result"
    }
   ],
   "source": [
    "df['estimated_generation_gwh'].unique()"
   ]
  },
  {
   "cell_type": "code",
   "execution_count": 13,
   "metadata": {},
   "outputs": [],
   "source": [
    "df.drop(['estimated_generation_gwh'], axis = 1, inplace = True)"
   ]
  },
  {
   "cell_type": "code",
   "execution_count": 14,
   "metadata": {},
   "outputs": [
    {
     "data": {
      "text/plain": [
       "country                   0\n",
       "country_long              0\n",
       "name                      0\n",
       "gppd_idnr                 0\n",
       "capacity_mw               0\n",
       "latitude                  0\n",
       "longitude                 0\n",
       "primary_fuel              0\n",
       "commissioning_year        0\n",
       "source                    0\n",
       "url                       0\n",
       "year_of_capacity_data     0\n",
       "generation_gwh_2013       0\n",
       "generation_gwh_2014       0\n",
       "generation_gwh_2015       0\n",
       "generation_gwh_2016       0\n",
       "generation_gwh_2017       0\n",
       "generation_data_source    0\n",
       "dtype: int64"
      ]
     },
     "execution_count": 14,
     "metadata": {},
     "output_type": "execute_result"
    }
   ],
   "source": [
    "df.isnull().sum()"
   ]
  },
  {
   "cell_type": "code",
   "execution_count": 15,
   "metadata": {},
   "outputs": [
    {
     "data": {
      "text/plain": [
       "<AxesSubplot:xlabel='primary_fuel', ylabel='count'>"
      ]
     },
     "execution_count": 15,
     "metadata": {},
     "output_type": "execute_result"
    },
    {
     "data": {
      "image/png": "[encoded data removed]",
      "text/plain": [
       "<Figure size 432x288 with 1 Axes>"
      ]
     },
     "metadata": {
      "needs_background": "light"
     },
     "output_type": "display_data"
    }
   ],
   "source": [
    "sns.countplot(x=\"primary_fuel\",data=df)"
   ]
  },
  {
   "cell_type": "code",
   "execution_count": 16,
   "metadata": {},
   "outputs": [
    {
     "data": {
      "text/plain": [
       "country                    object\n",
       "country_long               object\n",
       "name                       object\n",
       "gppd_idnr                  object\n",
       "capacity_mw               float64\n",
       "latitude                  float64\n",
       "longitude                 float64\n",
       "primary_fuel               object\n",
       "commissioning_year        float64\n",
       "source                     object\n",
       "url                        object\n",
       "year_of_capacity_data     float64\n",
       "generation_gwh_2013       float64\n",
       "generation_gwh_2014       float64\n",
       "generation_gwh_2015       float64\n",
       "generation_gwh_2016       float64\n",
       "generation_gwh_2017       float64\n",
       "generation_data_source     object\n",
       "dtype: object"
      ]
     },
     "execution_count": 16,
     "metadata": {},
     "output_type": "execute_result"
    }
   ],
   "source": [
    "df.dtypes"
   ]
  },
  {
   "cell_type": "code",
   "execution_count": 17,
   "metadata": {},
   "outputs": [],
   "source": [
    "from sklearn import preprocessing\n",
    "label_encoder = preprocessing.LabelEncoder()\n",
    "df1=df.apply(label_encoder.fit_transform)"
   ]
  },
  {
   "cell_type": "code",
   "execution_count": 18,
   "metadata": {},
   "outputs": [
    {
     "data": {
      "text/plain": [
       "country                   int32\n",
       "country_long              int32\n",
       "name                      int32\n",
       "gppd_idnr                 int32\n",
       "capacity_mw               int64\n",
       "latitude                  int64\n",
       "longitude                 int64\n",
       "primary_fuel              int32\n",
       "commissioning_year        int64\n",
       "source                    int32\n",
       "url                       int32\n",
       "year_of_capacity_data     int64\n",
       "generation_gwh_2013       int64\n",
       "generation_gwh_2014       int64\n",
       "generation_gwh_2015       int64\n",
       "generation_gwh_2016       int64\n",
       "generation_gwh_2017       int64\n",
       "generation_data_source    int32\n",
       "dtype: object"
      ]
     },
     "execution_count": 18,
     "metadata": {},
     "output_type": "execute_result"
    }
   ],
   "source": [
    "df1.dtypes"
   ]
  },
  {
   "cell_type": "code",
   "execution_count": 19,
   "metadata": {},
   "outputs": [
    {
     "data": {
      "text/html": [
       "<div>\n",
       "<style scoped>\n",
       "    .dataframe tbody tr th:only-of-type {\n",
       "        vertical-align: middle;\n",
       "    }\n",
       "\n",
       "    .dataframe tbody tr th {\n",
       "        vertical-align: top;\n",
       "    }\n",
       "\n",
       "    .dataframe thead th {\n",
       "        text-align: right;\n",
       "    }\n",
       "</style>\n",
       "<table border=\"1\" class=\"dataframe\">\n",
       "  <thead>\n",
       "    <tr style=\"text-align: right;\">\n",
       "      <th></th>\n",
       "      <th>country</th>\n",
       "      <th>country_long</th>\n",
       "      <th>name</th>\n",
       "      <th>gppd_idnr</th>\n",
       "      <th>capacity_mw</th>\n",
       "      <th>latitude</th>\n",
       "      <th>longitude</th>\n",
       "      <th>primary_fuel</th>\n",
       "      <th>commissioning_year</th>\n",
       "      <th>source</th>\n",
       "      <th>url</th>\n",
       "      <th>year_of_capacity_data</th>\n",
       "      <th>generation_gwh_2013</th>\n",
       "      <th>generation_gwh_2014</th>\n",
       "      <th>generation_gwh_2015</th>\n",
       "      <th>generation_gwh_2016</th>\n",
       "      <th>generation_gwh_2017</th>\n",
       "      <th>generation_data_source</th>\n",
       "    </tr>\n",
       "  </thead>\n",
       "  <tbody>\n",
       "    <tr>\n",
       "      <th>0</th>\n",
       "      <td>0</td>\n",
       "      <td>0</td>\n",
       "      <td>0</td>\n",
       "      <td>658</td>\n",
       "      <td>9</td>\n",
       "      <td>731</td>\n",
       "      <td>143</td>\n",
       "      <td>6</td>\n",
       "      <td>65</td>\n",
       "      <td>109</td>\n",
       "      <td>128</td>\n",
       "      <td>0</td>\n",
       "      <td>252</td>\n",
       "      <td>253</td>\n",
       "      <td>267</td>\n",
       "      <td>270</td>\n",
       "      <td>272</td>\n",
       "      <td>0</td>\n",
       "    </tr>\n",
       "    <tr>\n",
       "      <th>1</th>\n",
       "      <td>0</td>\n",
       "      <td>0</td>\n",
       "      <td>1</td>\n",
       "      <td>520</td>\n",
       "      <td>180</td>\n",
       "      <td>594</td>\n",
       "      <td>234</td>\n",
       "      <td>1</td>\n",
       "      <td>50</td>\n",
       "      <td>174</td>\n",
       "      <td>173</td>\n",
       "      <td>0</td>\n",
       "      <td>252</td>\n",
       "      <td>253</td>\n",
       "      <td>267</td>\n",
       "      <td>270</td>\n",
       "      <td>272</td>\n",
       "      <td>0</td>\n",
       "    </tr>\n",
       "    <tr>\n",
       "      <th>2</th>\n",
       "      <td>0</td>\n",
       "      <td>0</td>\n",
       "      <td>2</td>\n",
       "      <td>854</td>\n",
       "      <td>122</td>\n",
       "      <td>421</td>\n",
       "      <td>8</td>\n",
       "      <td>7</td>\n",
       "      <td>50</td>\n",
       "      <td>21</td>\n",
       "      <td>205</td>\n",
       "      <td>0</td>\n",
       "      <td>252</td>\n",
       "      <td>253</td>\n",
       "      <td>267</td>\n",
       "      <td>270</td>\n",
       "      <td>272</td>\n",
       "      <td>0</td>\n",
       "    </tr>\n",
       "    <tr>\n",
       "      <th>3</th>\n",
       "      <td>0</td>\n",
       "      <td>0</td>\n",
       "      <td>3</td>\n",
       "      <td>0</td>\n",
       "      <td>204</td>\n",
       "      <td>547</td>\n",
       "      <td>808</td>\n",
       "      <td>2</td>\n",
       "      <td>58</td>\n",
       "      <td>22</td>\n",
       "      <td>58</td>\n",
       "      <td>0</td>\n",
       "      <td>158</td>\n",
       "      <td>157</td>\n",
       "      <td>198</td>\n",
       "      <td>199</td>\n",
       "      <td>178</td>\n",
       "      <td>0</td>\n",
       "    </tr>\n",
       "    <tr>\n",
       "      <th>4</th>\n",
       "      <td>0</td>\n",
       "      <td>0</td>\n",
       "      <td>4</td>\n",
       "      <td>1</td>\n",
       "      <td>345</td>\n",
       "      <td>424</td>\n",
       "      <td>704</td>\n",
       "      <td>1</td>\n",
       "      <td>69</td>\n",
       "      <td>22</td>\n",
       "      <td>58</td>\n",
       "      <td>0</td>\n",
       "      <td>228</td>\n",
       "      <td>275</td>\n",
       "      <td>351</td>\n",
       "      <td>362</td>\n",
       "      <td>341</td>\n",
       "      <td>0</td>\n",
       "    </tr>\n",
       "  </tbody>\n",
       "</table>\n",
       "</div>"
      ],
      "text/plain": [
       "   country  country_long  name  gppd_idnr  capacity_mw  latitude  longitude  \\\n",
       "0        0             0     0        658            9       731        143   \n",
       "1        0             0     1        520          180       594        234   \n",
       "2        0             0     2        854          122       421          8   \n",
       "3        0             0     3          0          204       547        808   \n",
       "4        0             0     4          1          345       424        704   \n",
       "\n",
       "   primary_fuel  commissioning_year  source  url  year_of_capacity_data  \\\n",
       "0             6                  65     109  128                      0   \n",
       "1             1                  50     174  173                      0   \n",
       "2             7                  50      21  205                      0   \n",
       "3             2                  58      22   58                      0   \n",
       "4             1                  69      22   58                      0   \n",
       "\n",
       "   generation_gwh_2013  generation_gwh_2014  generation_gwh_2015  \\\n",
       "0                  252                  253                  267   \n",
       "1                  252                  253                  267   \n",
       "2                  252                  253                  267   \n",
       "3                  158                  157                  198   \n",
       "4                  228                  275                  351   \n",
       "\n",
       "   generation_gwh_2016  generation_gwh_2017  generation_data_source  \n",
       "0                  270                  272                       0  \n",
       "1                  270                  272                       0  \n",
       "2                  270                  272                       0  \n",
       "3                  199                  178                       0  \n",
       "4                  362                  341                       0  "
      ]
     },
     "execution_count": 19,
     "metadata": {},
     "output_type": "execute_result"
    }
   ],
   "source": [
    "df1.head()"
   ]
  },
  {
   "cell_type": "code",
   "execution_count": 34,
   "metadata": {},
   "outputs": [
    {
     "data": {
      "text/plain": [
       "array([0])"
      ]
     },
     "execution_count": 34,
     "metadata": {},
     "output_type": "execute_result"
    }
   ],
   "source": [
    "df1['generation_data_source'].unique()"
   ]
  },
  {
   "cell_type": "code",
   "execution_count": 35,
   "metadata": {},
   "outputs": [],
   "source": [
    "df1.drop(['generation_data_source'], axis = 1, inplace = True)"
   ]
  },
  {
   "cell_type": "code",
   "execution_count": 21,
   "metadata": {},
   "outputs": [],
   "source": [
    "df1.drop(['country'], axis = 1, inplace = True)"
   ]
  },
  {
   "cell_type": "markdown",
   "metadata": {},
   "source": [
    "### EDA"
   ]
  },
  {
   "cell_type": "markdown",
   "metadata": {},
   "source": [
    "### Plotting Distribution Plot for checking data skewness"
   ]
  },
  {
   "cell_type": "code",
   "execution_count": 20,
   "metadata": {},
   "outputs": [
    {
     "data": {
      "text/plain": [
       "<AxesSubplot:xlabel='country_long', ylabel='Density'>"
      ]
     },
     "execution_count": 20,
     "metadata": {},
     "output_type": "execute_result"
    },
    {
     "data": {
      "image/png": "[encoded data removed]",
      "text/plain": [
       "<Figure size 432x288 with 1 Axes>"
      ]
     },
     "metadata": {
      "needs_background": "light"
     },
     "output_type": "display_data"
    }
   ],
   "source": [
    "sns.distplot(df1['country_long'])"
   ]
  },
  {
   "cell_type": "code",
   "execution_count": 22,
   "metadata": {},
   "outputs": [
    {
     "data": {
      "text/plain": [
       "<AxesSubplot:xlabel='name', ylabel='Density'>"
      ]
     },
     "execution_count": 22,
     "metadata": {},
     "output_type": "execute_result"
    },
    {
     "data": {
      "image/png": "[encoded data removed]",
      "text/plain": [
       "<Figure size 432x288 with 1 Axes>"
      ]
     },
     "metadata": {
      "needs_background": "light"
     },
     "output_type": "display_data"
    }
   ],
   "source": [
    "sns.distplot(df1['name'])"
   ]
  },
  {
   "cell_type": "code",
   "execution_count": 23,
   "metadata": {},
   "outputs": [
    {
     "data": {
      "text/plain": [
       "<AxesSubplot:xlabel='gppd_idnr', ylabel='Density'>"
      ]
     },
     "execution_count": 23,
     "metadata": {},
     "output_type": "execute_result"
    },
    {
     "data": {
      "image/png": "[encoded data removed]",
      "text/plain": [
       "<Figure size 432x288 with 1 Axes>"
      ]
     },
     "metadata": {
      "needs_background": "light"
     },
     "output_type": "display_data"
    }
   ],
   "source": [
    "sns.distplot(df1['gppd_idnr'])"
   ]
  },
  {
   "cell_type": "code",
   "execution_count": 24,
   "metadata": {},
   "outputs": [
    {
     "data": {
      "text/plain": [
       "<AxesSubplot:xlabel='capacity_mw', ylabel='Density'>"
      ]
     },
     "execution_count": 24,
     "metadata": {},
     "output_type": "execute_result"
    },
    {
     "data": {
      "image/png": "[encoded data removed]",
      "text/plain": [
       "<Figure size 432x288 with 1 Axes>"
      ]
     },
     "metadata": {
      "needs_background": "light"
     },
     "output_type": "display_data"
    }
   ],
   "source": [
    "sns.distplot(df1['capacity_mw'])"
   ]
  },
  {
   "cell_type": "code",
   "execution_count": 25,
   "metadata": {},
   "outputs": [
    {
     "data": {
      "text/plain": [
       "<AxesSubplot:xlabel='latitude', ylabel='Density'>"
      ]
     },
     "execution_count": 25,
     "metadata": {},
     "output_type": "execute_result"
    },
    {
     "data": {
      "image/png": "[encoded data removed]",
      "text/plain": [
       "<Figure size 432x288 with 1 Axes>"
      ]
     },
     "metadata": {
      "needs_background": "light"
     },
     "output_type": "display_data"
    }
   ],
   "source": [
    "sns.distplot(df1['latitude'])"
   ]
  },
  {
   "cell_type": "code",
   "execution_count": 26,
   "metadata": {},
   "outputs": [
    {
     "data": {
      "text/plain": [
       "<AxesSubplot:xlabel='longitude', ylabel='Density'>"
      ]
     },
     "execution_count": 26,
     "metadata": {},
     "output_type": "execute_result"
    },
    {
     "data": {
      "image/png": "[encoded data removed]",
      "text/plain": [
       "<Figure size 432x288 with 1 Axes>"
      ]
     },
     "metadata": {
      "needs_background": "light"
     },
     "output_type": "display_data"
    }
   ],
   "source": [
    "sns.distplot(df1['longitude'])"
   ]
  },
  {
   "cell_type": "code",
   "execution_count": 27,
   "metadata": {},
   "outputs": [
    {
     "data": {
      "text/plain": [
       "<AxesSubplot:xlabel='commissioning_year', ylabel='Density'>"
      ]
     },
     "execution_count": 27,
     "metadata": {},
     "output_type": "execute_result"
    },
    {
     "data": {
      "image/png": "[encoded data removed]",
      "text/plain": [
       "<Figure size 432x288 with 1 Axes>"
      ]
     },
     "metadata": {
      "needs_background": "light"
     },
     "output_type": "display_data"
    }
   ],
   "source": [
    "sns.distplot(df1['commissioning_year'])"
   ]
  },
  {
   "cell_type": "code",
   "execution_count": 28,
   "metadata": {},
   "outputs": [
    {
     "data": {
      "text/plain": [
       "<AxesSubplot:xlabel='year_of_capacity_data', ylabel='Density'>"
      ]
     },
     "execution_count": 28,
     "metadata": {},
     "output_type": "execute_result"
    },
    {
     "data": {
      "image/png": "[encoded data removed]",
      "text/plain": [
       "<Figure size 432x288 with 1 Axes>"
      ]
     },
     "metadata": {
      "needs_background": "light"
     },
     "output_type": "display_data"
    }
   ],
   "source": [
    "sns.distplot(df1['year_of_capacity_data'])"
   ]
  },
  {
   "cell_type": "code",
   "execution_count": 29,
   "metadata": {},
   "outputs": [
    {
     "data": {
      "text/plain": [
       "<AxesSubplot:xlabel='generation_gwh_2013', ylabel='Density'>"
      ]
     },
     "execution_count": 29,
     "metadata": {},
     "output_type": "execute_result"
    },
    {
     "data": {
      "image/png": "[encoded data removed]",
      "text/plain": [
       "<Figure size 432x288 with 1 Axes>"
      ]
     },
     "metadata": {
      "needs_background": "light"
     },
     "output_type": "display_data"
    }
   ],
   "source": [
    "sns.distplot(df1['generation_gwh_2013'])"
   ]
  },
  {
   "cell_type": "code",
   "execution_count": 30,
   "metadata": {},
   "outputs": [
    {
     "data": {
      "text/plain": [
       "<AxesSubplot:xlabel='generation_gwh_2014', ylabel='Density'>"
      ]
     },
     "execution_count": 30,
     "metadata": {},
     "output_type": "execute_result"
    },
    {
     "data": {
      "image/png": "[encoded data removed]",
      "text/plain": [
       "<Figure size 432x288 with 1 Axes>"
      ]
     },
     "metadata": {
      "needs_background": "light"
     },
     "output_type": "display_data"
    }
   ],
   "source": [
    "sns.distplot(df1['generation_gwh_2014'])"
   ]
  },
  {
   "cell_type": "code",
   "execution_count": 31,
   "metadata": {},
   "outputs": [
    {
     "data": {
      "text/plain": [
       "<AxesSubplot:xlabel='generation_gwh_2015', ylabel='Density'>"
      ]
     },
     "execution_count": 31,
     "metadata": {},
     "output_type": "execute_result"
    },
    {
     "data": {
      "image/png": "[encoded data removed]",
      "text/plain": [
       "<Figure size 432x288 with 1 Axes>"
      ]
     },
     "metadata": {
      "needs_background": "light"
     },
     "output_type": "display_data"
    }
   ],
   "source": [
    "sns.distplot(df1['generation_gwh_2015'])"
   ]
  },
  {
   "cell_type": "code",
   "execution_count": 32,
   "metadata": {},
   "outputs": [
    {
     "data": {
      "text/plain": [
       "<AxesSubplot:xlabel='generation_gwh_2016', ylabel='Density'>"
      ]
     },
     "execution_count": 32,
     "metadata": {},
     "output_type": "execute_result"
    },
    {
     "data": {
      "image/png": "[encoded data removed]",
      "text/plain": [
       "<Figure size 432x288 with 1 Axes>"
      ]
     },
     "metadata": {
      "needs_background": "light"
     },
     "output_type": "display_data"
    }
   ],
   "source": [
    "sns.distplot(df1['generation_gwh_2016'])"
   ]
  },
  {
   "cell_type": "code",
   "execution_count": 33,
   "metadata": {},
   "outputs": [
    {
     "data": {
      "text/plain": [
       "<AxesSubplot:xlabel='generation_gwh_2017', ylabel='Density'>"
      ]
     },
     "execution_count": 33,
     "metadata": {},
     "output_type": "execute_result"
    },
    {
     "data": {
      "image/png": "[encoded data removed]",
      "text/plain": [
       "<Figure size 432x288 with 1 Axes>"
      ]
     },
     "metadata": {
      "needs_background": "light"
     },
     "output_type": "display_data"
    }
   ],
   "source": [
    "sns.distplot(df1['generation_gwh_2017'])"
   ]
  },
  {
   "cell_type": "markdown",
   "metadata": {},
   "source": [
    "### Plotting Boxplot for checking Outliers"
   ]
  },
  {
   "cell_type": "code",
   "execution_count": 37,
   "metadata": {},
   "outputs": [
    {
     "data": {
      "image/png": "[encoded data removed]",
      "text/plain": [
       "<Figure size 504x1512 with 16 Axes>"
      ]
     },
     "metadata": {
      "needs_background": "light"
     },
     "output_type": "display_data"
    }
   ],
   "source": [
    "collist=df1.columns.values\n",
    "ncol= 7\n",
    "nrows= 7\n",
    "\n",
    "plt.figure(figsize=(ncol,3*ncol))\n",
    "for i in range(0,len(collist)):\n",
    "    plt.subplot(nrows, ncol, i+1)\n",
    "    sns.boxplot(y=df1[collist[i]], color='red', orient='x')\n",
    "    plt.tight_layout()"
   ]
  },
  {
   "cell_type": "markdown",
   "metadata": {},
   "source": [
    "### Removal of Skewness"
   ]
  },
  {
   "cell_type": "code",
   "execution_count": 38,
   "metadata": {},
   "outputs": [
    {
     "data": {
      "text/plain": [
       "country_long             0.000000\n",
       "name                     0.000000\n",
       "gppd_idnr                0.000000\n",
       "capacity_mw              0.228620\n",
       "latitude                 0.049777\n",
       "longitude                0.001072\n",
       "primary_fuel             0.471141\n",
       "commissioning_year      -1.138265\n",
       "source                   1.829145\n",
       "url                      1.512258\n",
       "year_of_capacity_data    0.000000\n",
       "generation_gwh_2013     -1.302485\n",
       "generation_gwh_2014     -1.198721\n",
       "generation_gwh_2015     -1.100938\n",
       "generation_gwh_2016     -1.050854\n",
       "generation_gwh_2017     -1.018356\n",
       "dtype: float64"
      ]
     },
     "execution_count": 38,
     "metadata": {},
     "output_type": "execute_result"
    }
   ],
   "source": [
    "df1.skew()"
   ]
  },
  {
   "cell_type": "markdown",
   "metadata": {},
   "source": [
    "### Removal of Outliers"
   ]
  },
  {
   "cell_type": "code",
   "execution_count": 39,
   "metadata": {},
   "outputs": [],
   "source": [
    "from scipy.stats import zscore\n",
    "\n",
    "z=np.abs(zscore(df1))\n",
    "\n",
    "df2=df1[(z<3).all(axis=1)]"
   ]
  },
  {
   "cell_type": "code",
   "execution_count": 40,
   "metadata": {},
   "outputs": [
    {
     "data": {
      "text/plain": [
       "(0, 16)"
      ]
     },
     "execution_count": 40,
     "metadata": {},
     "output_type": "execute_result"
    }
   ],
   "source": [
    "df2.shape"
   ]
  },
  {
   "cell_type": "code",
   "execution_count": 41,
   "metadata": {},
   "outputs": [
    {
     "data": {
      "text/plain": [
       "(908, 16)"
      ]
     },
     "execution_count": 41,
     "metadata": {},
     "output_type": "execute_result"
    }
   ],
   "source": [
    "df1.shape"
   ]
  },
  {
   "cell_type": "markdown",
   "metadata": {},
   "source": [
    "All the data is deleted as part of Outlier removal. so proceeding without removing outliers"
   ]
  },
  {
   "cell_type": "code",
   "execution_count": 42,
   "metadata": {},
   "outputs": [
    {
     "data": {
      "text/html": [
       "<div>\n",
       "<style scoped>\n",
       "    .dataframe tbody tr th:only-of-type {\n",
       "        vertical-align: middle;\n",
       "    }\n",
       "\n",
       "    .dataframe tbody tr th {\n",
       "        vertical-align: top;\n",
       "    }\n",
       "\n",
       "    .dataframe thead th {\n",
       "        text-align: right;\n",
       "    }\n",
       "</style>\n",
       "<table border=\"1\" class=\"dataframe\">\n",
       "  <thead>\n",
       "    <tr style=\"text-align: right;\">\n",
       "      <th></th>\n",
       "      <th>country_long</th>\n",
       "      <th>name</th>\n",
       "      <th>gppd_idnr</th>\n",
       "      <th>capacity_mw</th>\n",
       "      <th>latitude</th>\n",
       "      <th>longitude</th>\n",
       "      <th>primary_fuel</th>\n",
       "      <th>commissioning_year</th>\n",
       "      <th>source</th>\n",
       "      <th>url</th>\n",
       "      <th>year_of_capacity_data</th>\n",
       "      <th>generation_gwh_2013</th>\n",
       "      <th>generation_gwh_2014</th>\n",
       "      <th>generation_gwh_2015</th>\n",
       "      <th>generation_gwh_2016</th>\n",
       "      <th>generation_gwh_2017</th>\n",
       "    </tr>\n",
       "  </thead>\n",
       "  <tbody>\n",
       "    <tr>\n",
       "      <th>country_long</th>\n",
       "      <td>NaN</td>\n",
       "      <td>NaN</td>\n",
       "      <td>NaN</td>\n",
       "      <td>NaN</td>\n",
       "      <td>NaN</td>\n",
       "      <td>NaN</td>\n",
       "      <td>NaN</td>\n",
       "      <td>NaN</td>\n",
       "      <td>NaN</td>\n",
       "      <td>NaN</td>\n",
       "      <td>NaN</td>\n",
       "      <td>NaN</td>\n",
       "      <td>NaN</td>\n",
       "      <td>NaN</td>\n",
       "      <td>NaN</td>\n",
       "      <td>NaN</td>\n",
       "    </tr>\n",
       "    <tr>\n",
       "      <th>name</th>\n",
       "      <td>NaN</td>\n",
       "      <td>1.000000</td>\n",
       "      <td>0.336792</td>\n",
       "      <td>0.012749</td>\n",
       "      <td>-0.136241</td>\n",
       "      <td>0.033977</td>\n",
       "      <td>0.038752</td>\n",
       "      <td>-0.039119</td>\n",
       "      <td>-0.013801</td>\n",
       "      <td>0.042711</td>\n",
       "      <td>NaN</td>\n",
       "      <td>0.050131</td>\n",
       "      <td>0.048980</td>\n",
       "      <td>0.035561</td>\n",
       "      <td>0.032634</td>\n",
       "      <td>0.050657</td>\n",
       "    </tr>\n",
       "    <tr>\n",
       "      <th>gppd_idnr</th>\n",
       "      <td>NaN</td>\n",
       "      <td>0.336792</td>\n",
       "      <td>1.000000</td>\n",
       "      <td>-0.566669</td>\n",
       "      <td>-0.101351</td>\n",
       "      <td>-0.399362</td>\n",
       "      <td>0.607373</td>\n",
       "      <td>0.012067</td>\n",
       "      <td>0.416575</td>\n",
       "      <td>0.596994</td>\n",
       "      <td>NaN</td>\n",
       "      <td>0.354518</td>\n",
       "      <td>0.349401</td>\n",
       "      <td>0.344224</td>\n",
       "      <td>0.319660</td>\n",
       "      <td>0.311168</td>\n",
       "    </tr>\n",
       "    <tr>\n",
       "      <th>capacity_mw</th>\n",
       "      <td>NaN</td>\n",
       "      <td>0.012749</td>\n",
       "      <td>-0.566669</td>\n",
       "      <td>1.000000</td>\n",
       "      <td>0.080681</td>\n",
       "      <td>0.352094</td>\n",
       "      <td>-0.514198</td>\n",
       "      <td>0.280870</td>\n",
       "      <td>-0.393152</td>\n",
       "      <td>-0.349308</td>\n",
       "      <td>NaN</td>\n",
       "      <td>-0.027932</td>\n",
       "      <td>-0.013597</td>\n",
       "      <td>-0.017148</td>\n",
       "      <td>0.002238</td>\n",
       "      <td>0.004315</td>\n",
       "    </tr>\n",
       "    <tr>\n",
       "      <th>latitude</th>\n",
       "      <td>NaN</td>\n",
       "      <td>-0.136241</td>\n",
       "      <td>-0.101351</td>\n",
       "      <td>0.080681</td>\n",
       "      <td>1.000000</td>\n",
       "      <td>-0.046356</td>\n",
       "      <td>0.005767</td>\n",
       "      <td>0.085845</td>\n",
       "      <td>0.055135</td>\n",
       "      <td>-0.128774</td>\n",
       "      <td>NaN</td>\n",
       "      <td>0.028773</td>\n",
       "      <td>0.065312</td>\n",
       "      <td>0.060170</td>\n",
       "      <td>0.086249</td>\n",
       "      <td>0.048367</td>\n",
       "    </tr>\n",
       "    <tr>\n",
       "      <th>longitude</th>\n",
       "      <td>NaN</td>\n",
       "      <td>0.033977</td>\n",
       "      <td>-0.399362</td>\n",
       "      <td>0.352094</td>\n",
       "      <td>-0.046356</td>\n",
       "      <td>1.000000</td>\n",
       "      <td>-0.391422</td>\n",
       "      <td>0.104196</td>\n",
       "      <td>-0.269345</td>\n",
       "      <td>-0.315456</td>\n",
       "      <td>NaN</td>\n",
       "      <td>-0.122781</td>\n",
       "      <td>-0.132605</td>\n",
       "      <td>-0.148550</td>\n",
       "      <td>-0.096229</td>\n",
       "      <td>-0.114997</td>\n",
       "    </tr>\n",
       "    <tr>\n",
       "      <th>primary_fuel</th>\n",
       "      <td>NaN</td>\n",
       "      <td>0.038752</td>\n",
       "      <td>0.607373</td>\n",
       "      <td>-0.514198</td>\n",
       "      <td>0.005767</td>\n",
       "      <td>-0.391422</td>\n",
       "      <td>1.000000</td>\n",
       "      <td>-0.141909</td>\n",
       "      <td>0.053609</td>\n",
       "      <td>0.589348</td>\n",
       "      <td>NaN</td>\n",
       "      <td>0.061180</td>\n",
       "      <td>0.060238</td>\n",
       "      <td>0.055120</td>\n",
       "      <td>0.041964</td>\n",
       "      <td>0.055930</td>\n",
       "    </tr>\n",
       "    <tr>\n",
       "      <th>commissioning_year</th>\n",
       "      <td>NaN</td>\n",
       "      <td>-0.039119</td>\n",
       "      <td>0.012067</td>\n",
       "      <td>0.280870</td>\n",
       "      <td>0.085845</td>\n",
       "      <td>0.104196</td>\n",
       "      <td>-0.141909</td>\n",
       "      <td>1.000000</td>\n",
       "      <td>0.001737</td>\n",
       "      <td>-0.011080</td>\n",
       "      <td>NaN</td>\n",
       "      <td>0.142177</td>\n",
       "      <td>0.153406</td>\n",
       "      <td>0.142161</td>\n",
       "      <td>0.179757</td>\n",
       "      <td>0.143160</td>\n",
       "    </tr>\n",
       "    <tr>\n",
       "      <th>source</th>\n",
       "      <td>NaN</td>\n",
       "      <td>-0.013801</td>\n",
       "      <td>0.416575</td>\n",
       "      <td>-0.393152</td>\n",
       "      <td>0.055135</td>\n",
       "      <td>-0.269345</td>\n",
       "      <td>0.053609</td>\n",
       "      <td>0.001737</td>\n",
       "      <td>1.000000</td>\n",
       "      <td>0.160379</td>\n",
       "      <td>NaN</td>\n",
       "      <td>0.201454</td>\n",
       "      <td>0.198754</td>\n",
       "      <td>0.200132</td>\n",
       "      <td>0.200318</td>\n",
       "      <td>0.202079</td>\n",
       "    </tr>\n",
       "    <tr>\n",
       "      <th>url</th>\n",
       "      <td>NaN</td>\n",
       "      <td>0.042711</td>\n",
       "      <td>0.596994</td>\n",
       "      <td>-0.349308</td>\n",
       "      <td>-0.128774</td>\n",
       "      <td>-0.315456</td>\n",
       "      <td>0.589348</td>\n",
       "      <td>-0.011080</td>\n",
       "      <td>0.160379</td>\n",
       "      <td>1.000000</td>\n",
       "      <td>NaN</td>\n",
       "      <td>0.213298</td>\n",
       "      <td>0.210440</td>\n",
       "      <td>0.211898</td>\n",
       "      <td>0.212095</td>\n",
       "      <td>0.213960</td>\n",
       "    </tr>\n",
       "    <tr>\n",
       "      <th>year_of_capacity_data</th>\n",
       "      <td>NaN</td>\n",
       "      <td>NaN</td>\n",
       "      <td>NaN</td>\n",
       "      <td>NaN</td>\n",
       "      <td>NaN</td>\n",
       "      <td>NaN</td>\n",
       "      <td>NaN</td>\n",
       "      <td>NaN</td>\n",
       "      <td>NaN</td>\n",
       "      <td>NaN</td>\n",
       "      <td>NaN</td>\n",
       "      <td>NaN</td>\n",
       "      <td>NaN</td>\n",
       "      <td>NaN</td>\n",
       "      <td>NaN</td>\n",
       "      <td>NaN</td>\n",
       "    </tr>\n",
       "    <tr>\n",
       "      <th>generation_gwh_2013</th>\n",
       "      <td>NaN</td>\n",
       "      <td>0.050131</td>\n",
       "      <td>0.354518</td>\n",
       "      <td>-0.027932</td>\n",
       "      <td>0.028773</td>\n",
       "      <td>-0.122781</td>\n",
       "      <td>0.061180</td>\n",
       "      <td>0.142177</td>\n",
       "      <td>0.201454</td>\n",
       "      <td>0.213298</td>\n",
       "      <td>NaN</td>\n",
       "      <td>1.000000</td>\n",
       "      <td>0.911375</td>\n",
       "      <td>0.813069</td>\n",
       "      <td>0.803750</td>\n",
       "      <td>0.744196</td>\n",
       "    </tr>\n",
       "    <tr>\n",
       "      <th>generation_gwh_2014</th>\n",
       "      <td>NaN</td>\n",
       "      <td>0.048980</td>\n",
       "      <td>0.349401</td>\n",
       "      <td>-0.013597</td>\n",
       "      <td>0.065312</td>\n",
       "      <td>-0.132605</td>\n",
       "      <td>0.060238</td>\n",
       "      <td>0.153406</td>\n",
       "      <td>0.198754</td>\n",
       "      <td>0.210440</td>\n",
       "      <td>NaN</td>\n",
       "      <td>0.911375</td>\n",
       "      <td>1.000000</td>\n",
       "      <td>0.855535</td>\n",
       "      <td>0.831112</td>\n",
       "      <td>0.763802</td>\n",
       "    </tr>\n",
       "    <tr>\n",
       "      <th>generation_gwh_2015</th>\n",
       "      <td>NaN</td>\n",
       "      <td>0.035561</td>\n",
       "      <td>0.344224</td>\n",
       "      <td>-0.017148</td>\n",
       "      <td>0.060170</td>\n",
       "      <td>-0.148550</td>\n",
       "      <td>0.055120</td>\n",
       "      <td>0.142161</td>\n",
       "      <td>0.200132</td>\n",
       "      <td>0.211898</td>\n",
       "      <td>NaN</td>\n",
       "      <td>0.813069</td>\n",
       "      <td>0.855535</td>\n",
       "      <td>1.000000</td>\n",
       "      <td>0.902093</td>\n",
       "      <td>0.800141</td>\n",
       "    </tr>\n",
       "    <tr>\n",
       "      <th>generation_gwh_2016</th>\n",
       "      <td>NaN</td>\n",
       "      <td>0.032634</td>\n",
       "      <td>0.319660</td>\n",
       "      <td>0.002238</td>\n",
       "      <td>0.086249</td>\n",
       "      <td>-0.096229</td>\n",
       "      <td>0.041964</td>\n",
       "      <td>0.179757</td>\n",
       "      <td>0.200318</td>\n",
       "      <td>0.212095</td>\n",
       "      <td>NaN</td>\n",
       "      <td>0.803750</td>\n",
       "      <td>0.831112</td>\n",
       "      <td>0.902093</td>\n",
       "      <td>1.000000</td>\n",
       "      <td>0.888413</td>\n",
       "    </tr>\n",
       "    <tr>\n",
       "      <th>generation_gwh_2017</th>\n",
       "      <td>NaN</td>\n",
       "      <td>0.050657</td>\n",
       "      <td>0.311168</td>\n",
       "      <td>0.004315</td>\n",
       "      <td>0.048367</td>\n",
       "      <td>-0.114997</td>\n",
       "      <td>0.055930</td>\n",
       "      <td>0.143160</td>\n",
       "      <td>0.202079</td>\n",
       "      <td>0.213960</td>\n",
       "      <td>NaN</td>\n",
       "      <td>0.744196</td>\n",
       "      <td>0.763802</td>\n",
       "      <td>0.800141</td>\n",
       "      <td>0.888413</td>\n",
       "      <td>1.000000</td>\n",
       "    </tr>\n",
       "  </tbody>\n",
       "</table>\n",
       "</div>"
      ],
      "text/plain": [
       "                       country_long      name  gppd_idnr  capacity_mw  \\\n",
       "country_long                    NaN       NaN        NaN          NaN   \n",
       "name                            NaN  1.000000   0.336792     0.012749   \n",
       "gppd_idnr                       NaN  0.336792   1.000000    -0.566669   \n",
       "capacity_mw                     NaN  0.012749  -0.566669     1.000000   \n",
       "latitude                        NaN -0.136241  -0.101351     0.080681   \n",
       "longitude                       NaN  0.033977  -0.399362     0.352094   \n",
       "primary_fuel                    NaN  0.038752   0.607373    -0.514198   \n",
       "commissioning_year              NaN -0.039119   0.012067     0.280870   \n",
       "source                          NaN -0.013801   0.416575    -0.393152   \n",
       "url                             NaN  0.042711   0.596994    -0.349308   \n",
       "year_of_capacity_data           NaN       NaN        NaN          NaN   \n",
       "generation_gwh_2013             NaN  0.050131   0.354518    -0.027932   \n",
       "generation_gwh_2014             NaN  0.048980   0.349401    -0.013597   \n",
       "generation_gwh_2015             NaN  0.035561   0.344224    -0.017148   \n",
       "generation_gwh_2016             NaN  0.032634   0.319660     0.002238   \n",
       "generation_gwh_2017             NaN  0.050657   0.311168     0.004315   \n",
       "\n",
       "                       latitude  longitude  primary_fuel  commissioning_year  \\\n",
       "country_long                NaN        NaN           NaN                 NaN   \n",
       "name                  -0.136241   0.033977      0.038752           -0.039119   \n",
       "gppd_idnr             -0.101351  -0.399362      0.607373            0.012067   \n",
       "capacity_mw            0.080681   0.352094     -0.514198            0.280870   \n",
       "latitude               1.000000  -0.046356      0.005767            0.085845   \n",
       "longitude             -0.046356   1.000000     -0.391422            0.104196   \n",
       "primary_fuel           0.005767  -0.391422      1.000000           -0.141909   \n",
       "commissioning_year     0.085845   0.104196     -0.141909            1.000000   \n",
       "source                 0.055135  -0.269345      0.053609            0.001737   \n",
       "url                   -0.128774  -0.315456      0.589348           -0.011080   \n",
       "year_of_capacity_data       NaN        NaN           NaN                 NaN   \n",
       "generation_gwh_2013    0.028773  -0.122781      0.061180            0.142177   \n",
       "generation_gwh_2014    0.065312  -0.132605      0.060238            0.153406   \n",
       "generation_gwh_2015    0.060170  -0.148550      0.055120            0.142161   \n",
       "generation_gwh_2016    0.086249  -0.096229      0.041964            0.179757   \n",
       "generation_gwh_2017    0.048367  -0.114997      0.055930            0.143160   \n",
       "\n",
       "                         source       url  year_of_capacity_data  \\\n",
       "country_long                NaN       NaN                    NaN   \n",
       "name                  -0.013801  0.042711                    NaN   \n",
       "gppd_idnr              0.416575  0.596994                    NaN   \n",
       "capacity_mw           -0.393152 -0.349308                    NaN   \n",
       "latitude               0.055135 -0.128774                    NaN   \n",
       "longitude             -0.269345 -0.315456                    NaN   \n",
       "primary_fuel           0.053609  0.589348                    NaN   \n",
       "commissioning_year     0.001737 -0.011080                    NaN   \n",
       "source                 1.000000  0.160379                    NaN   \n",
       "url                    0.160379  1.000000                    NaN   \n",
       "year_of_capacity_data       NaN       NaN                    NaN   \n",
       "generation_gwh_2013    0.201454  0.213298                    NaN   \n",
       "generation_gwh_2014    0.198754  0.210440                    NaN   \n",
       "generation_gwh_2015    0.200132  0.211898                    NaN   \n",
       "generation_gwh_2016    0.200318  0.212095                    NaN   \n",
       "generation_gwh_2017    0.202079  0.213960                    NaN   \n",
       "\n",
       "                       generation_gwh_2013  generation_gwh_2014  \\\n",
       "country_long                           NaN                  NaN   \n",
       "name                              0.050131             0.048980   \n",
       "gppd_idnr                         0.354518             0.349401   \n",
       "capacity_mw                      -0.027932            -0.013597   \n",
       "latitude                          0.028773             0.065312   \n",
       "longitude                        -0.122781            -0.132605   \n",
       "primary_fuel                      0.061180             0.060238   \n",
       "commissioning_year                0.142177             0.153406   \n",
       "source                            0.201454             0.198754   \n",
       "url                               0.213298             0.210440   \n",
       "year_of_capacity_data                  NaN                  NaN   \n",
       "generation_gwh_2013               1.000000             0.911375   \n",
       "generation_gwh_2014               0.911375             1.000000   \n",
       "generation_gwh_2015               0.813069             0.855535   \n",
       "generation_gwh_2016               0.803750             0.831112   \n",
       "generation_gwh_2017               0.744196             0.763802   \n",
       "\n",
       "                       generation_gwh_2015  generation_gwh_2016  \\\n",
       "country_long                           NaN                  NaN   \n",
       "name                              0.035561             0.032634   \n",
       "gppd_idnr                         0.344224             0.319660   \n",
       "capacity_mw                      -0.017148             0.002238   \n",
       "latitude                          0.060170             0.086249   \n",
       "longitude                        -0.148550            -0.096229   \n",
       "primary_fuel                      0.055120             0.041964   \n",
       "commissioning_year                0.142161             0.179757   \n",
       "source                            0.200132             0.200318   \n",
       "url                               0.211898             0.212095   \n",
       "year_of_capacity_data                  NaN                  NaN   \n",
       "generation_gwh_2013               0.813069             0.803750   \n",
       "generation_gwh_2014               0.855535             0.831112   \n",
       "generation_gwh_2015               1.000000             0.902093   \n",
       "generation_gwh_2016               0.902093             1.000000   \n",
       "generation_gwh_2017               0.800141             0.888413   \n",
       "\n",
       "                       generation_gwh_2017  \n",
       "country_long                           NaN  \n",
       "name                              0.050657  \n",
       "gppd_idnr                         0.311168  \n",
       "capacity_mw                       0.004315  \n",
       "latitude                          0.048367  \n",
       "longitude                        -0.114997  \n",
       "primary_fuel                      0.055930  \n",
       "commissioning_year                0.143160  \n",
       "source                            0.202079  \n",
       "url                               0.213960  \n",
       "year_of_capacity_data                  NaN  \n",
       "generation_gwh_2013               0.744196  \n",
       "generation_gwh_2014               0.763802  \n",
       "generation_gwh_2015               0.800141  \n",
       "generation_gwh_2016               0.888413  \n",
       "generation_gwh_2017               1.000000  "
      ]
     },
     "execution_count": 42,
     "metadata": {},
     "output_type": "execute_result"
    }
   ],
   "source": [
    "cor=df1.corr()\n",
    "cor"
   ]
  },
  {
   "cell_type": "code",
   "execution_count": 43,
   "metadata": {},
   "outputs": [
    {
     "data": {
      "text/plain": [
       "<AxesSubplot:>"
      ]
     },
     "execution_count": 43,
     "metadata": {},
     "output_type": "execute_result"
    },
    {
     "data": {
      "image/png": "[encoded data removed]",
      "text/plain": [
       "<Figure size 1440x1440 with 2 Axes>"
      ]
     },
     "metadata": {
      "needs_background": "light"
     },
     "output_type": "display_data"
    }
   ],
   "source": [
    "fig, ax_size = plt.subplots(figsize=(20,20))\n",
    "sns.heatmap(cor,annot=True,ax=ax_size,linecolor='r')"
   ]
  },
  {
   "cell_type": "markdown",
   "metadata": {},
   "source": [
    "country_long and year_of_capacity_data are having all NaN values. These can be dropped"
   ]
  },
  {
   "cell_type": "code",
   "execution_count": 44,
   "metadata": {},
   "outputs": [],
   "source": [
    "df1.drop(['country_long'], axis = 1, inplace = True)\n",
    "df1.drop(['year_of_capacity_data'], axis = 1, inplace = True)"
   ]
  },
  {
   "cell_type": "code",
   "execution_count": 45,
   "metadata": {},
   "outputs": [
    {
     "data": {
      "text/html": [
       "<div>\n",
       "<style scoped>\n",
       "    .dataframe tbody tr th:only-of-type {\n",
       "        vertical-align: middle;\n",
       "    }\n",
       "\n",
       "    .dataframe tbody tr th {\n",
       "        vertical-align: top;\n",
       "    }\n",
       "\n",
       "    .dataframe thead th {\n",
       "        text-align: right;\n",
       "    }\n",
       "</style>\n",
       "<table border=\"1\" class=\"dataframe\">\n",
       "  <thead>\n",
       "    <tr style=\"text-align: right;\">\n",
       "      <th></th>\n",
       "      <th>name</th>\n",
       "      <th>gppd_idnr</th>\n",
       "      <th>capacity_mw</th>\n",
       "      <th>latitude</th>\n",
       "      <th>longitude</th>\n",
       "      <th>primary_fuel</th>\n",
       "      <th>commissioning_year</th>\n",
       "      <th>source</th>\n",
       "      <th>url</th>\n",
       "      <th>generation_gwh_2013</th>\n",
       "      <th>generation_gwh_2014</th>\n",
       "      <th>generation_gwh_2015</th>\n",
       "      <th>generation_gwh_2016</th>\n",
       "      <th>generation_gwh_2017</th>\n",
       "    </tr>\n",
       "  </thead>\n",
       "  <tbody>\n",
       "    <tr>\n",
       "      <th>name</th>\n",
       "      <td>1.000000</td>\n",
       "      <td>0.336792</td>\n",
       "      <td>0.012749</td>\n",
       "      <td>-0.136241</td>\n",
       "      <td>0.033977</td>\n",
       "      <td>0.038752</td>\n",
       "      <td>-0.039119</td>\n",
       "      <td>-0.013801</td>\n",
       "      <td>0.042711</td>\n",
       "      <td>0.050131</td>\n",
       "      <td>0.048980</td>\n",
       "      <td>0.035561</td>\n",
       "      <td>0.032634</td>\n",
       "      <td>0.050657</td>\n",
       "    </tr>\n",
       "    <tr>\n",
       "      <th>gppd_idnr</th>\n",
       "      <td>0.336792</td>\n",
       "      <td>1.000000</td>\n",
       "      <td>-0.566669</td>\n",
       "      <td>-0.101351</td>\n",
       "      <td>-0.399362</td>\n",
       "      <td>0.607373</td>\n",
       "      <td>0.012067</td>\n",
       "      <td>0.416575</td>\n",
       "      <td>0.596994</td>\n",
       "      <td>0.354518</td>\n",
       "      <td>0.349401</td>\n",
       "      <td>0.344224</td>\n",
       "      <td>0.319660</td>\n",
       "      <td>0.311168</td>\n",
       "    </tr>\n",
       "    <tr>\n",
       "      <th>capacity_mw</th>\n",
       "      <td>0.012749</td>\n",
       "      <td>-0.566669</td>\n",
       "      <td>1.000000</td>\n",
       "      <td>0.080681</td>\n",
       "      <td>0.352094</td>\n",
       "      <td>-0.514198</td>\n",
       "      <td>0.280870</td>\n",
       "      <td>-0.393152</td>\n",
       "      <td>-0.349308</td>\n",
       "      <td>-0.027932</td>\n",
       "      <td>-0.013597</td>\n",
       "      <td>-0.017148</td>\n",
       "      <td>0.002238</td>\n",
       "      <td>0.004315</td>\n",
       "    </tr>\n",
       "    <tr>\n",
       "      <th>latitude</th>\n",
       "      <td>-0.136241</td>\n",
       "      <td>-0.101351</td>\n",
       "      <td>0.080681</td>\n",
       "      <td>1.000000</td>\n",
       "      <td>-0.046356</td>\n",
       "      <td>0.005767</td>\n",
       "      <td>0.085845</td>\n",
       "      <td>0.055135</td>\n",
       "      <td>-0.128774</td>\n",
       "      <td>0.028773</td>\n",
       "      <td>0.065312</td>\n",
       "      <td>0.060170</td>\n",
       "      <td>0.086249</td>\n",
       "      <td>0.048367</td>\n",
       "    </tr>\n",
       "    <tr>\n",
       "      <th>longitude</th>\n",
       "      <td>0.033977</td>\n",
       "      <td>-0.399362</td>\n",
       "      <td>0.352094</td>\n",
       "      <td>-0.046356</td>\n",
       "      <td>1.000000</td>\n",
       "      <td>-0.391422</td>\n",
       "      <td>0.104196</td>\n",
       "      <td>-0.269345</td>\n",
       "      <td>-0.315456</td>\n",
       "      <td>-0.122781</td>\n",
       "      <td>-0.132605</td>\n",
       "      <td>-0.148550</td>\n",
       "      <td>-0.096229</td>\n",
       "      <td>-0.114997</td>\n",
       "    </tr>\n",
       "    <tr>\n",
       "      <th>primary_fuel</th>\n",
       "      <td>0.038752</td>\n",
       "      <td>0.607373</td>\n",
       "      <td>-0.514198</td>\n",
       "      <td>0.005767</td>\n",
       "      <td>-0.391422</td>\n",
       "      <td>1.000000</td>\n",
       "      <td>-0.141909</td>\n",
       "      <td>0.053609</td>\n",
       "      <td>0.589348</td>\n",
       "      <td>0.061180</td>\n",
       "      <td>0.060238</td>\n",
       "      <td>0.055120</td>\n",
       "      <td>0.041964</td>\n",
       "      <td>0.055930</td>\n",
       "    </tr>\n",
       "    <tr>\n",
       "      <th>commissioning_year</th>\n",
       "      <td>-0.039119</td>\n",
       "      <td>0.012067</td>\n",
       "      <td>0.280870</td>\n",
       "      <td>0.085845</td>\n",
       "      <td>0.104196</td>\n",
       "      <td>-0.141909</td>\n",
       "      <td>1.000000</td>\n",
       "      <td>0.001737</td>\n",
       "      <td>-0.011080</td>\n",
       "      <td>0.142177</td>\n",
       "      <td>0.153406</td>\n",
       "      <td>0.142161</td>\n",
       "      <td>0.179757</td>\n",
       "      <td>0.143160</td>\n",
       "    </tr>\n",
       "    <tr>\n",
       "      <th>source</th>\n",
       "      <td>-0.013801</td>\n",
       "      <td>0.416575</td>\n",
       "      <td>-0.393152</td>\n",
       "      <td>0.055135</td>\n",
       "      <td>-0.269345</td>\n",
       "      <td>0.053609</td>\n",
       "      <td>0.001737</td>\n",
       "      <td>1.000000</td>\n",
       "      <td>0.160379</td>\n",
       "      <td>0.201454</td>\n",
       "      <td>0.198754</td>\n",
       "      <td>0.200132</td>\n",
       "      <td>0.200318</td>\n",
       "      <td>0.202079</td>\n",
       "    </tr>\n",
       "    <tr>\n",
       "      <th>url</th>\n",
       "      <td>0.042711</td>\n",
       "      <td>0.596994</td>\n",
       "      <td>-0.349308</td>\n",
       "      <td>-0.128774</td>\n",
       "      <td>-0.315456</td>\n",
       "      <td>0.589348</td>\n",
       "      <td>-0.011080</td>\n",
       "      <td>0.160379</td>\n",
       "      <td>1.000000</td>\n",
       "      <td>0.213298</td>\n",
       "      <td>0.210440</td>\n",
       "      <td>0.211898</td>\n",
       "      <td>0.212095</td>\n",
       "      <td>0.213960</td>\n",
       "    </tr>\n",
       "    <tr>\n",
       "      <th>generation_gwh_2013</th>\n",
       "      <td>0.050131</td>\n",
       "      <td>0.354518</td>\n",
       "      <td>-0.027932</td>\n",
       "      <td>0.028773</td>\n",
       "      <td>-0.122781</td>\n",
       "      <td>0.061180</td>\n",
       "      <td>0.142177</td>\n",
       "      <td>0.201454</td>\n",
       "      <td>0.213298</td>\n",
       "      <td>1.000000</td>\n",
       "      <td>0.911375</td>\n",
       "      <td>0.813069</td>\n",
       "      <td>0.803750</td>\n",
       "      <td>0.744196</td>\n",
       "    </tr>\n",
       "    <tr>\n",
       "      <th>generation_gwh_2014</th>\n",
       "      <td>0.048980</td>\n",
       "      <td>0.349401</td>\n",
       "      <td>-0.013597</td>\n",
       "      <td>0.065312</td>\n",
       "      <td>-0.132605</td>\n",
       "      <td>0.060238</td>\n",
       "      <td>0.153406</td>\n",
       "      <td>0.198754</td>\n",
       "      <td>0.210440</td>\n",
       "      <td>0.911375</td>\n",
       "      <td>1.000000</td>\n",
       "      <td>0.855535</td>\n",
       "      <td>0.831112</td>\n",
       "      <td>0.763802</td>\n",
       "    </tr>\n",
       "    <tr>\n",
       "      <th>generation_gwh_2015</th>\n",
       "      <td>0.035561</td>\n",
       "      <td>0.344224</td>\n",
       "      <td>-0.017148</td>\n",
       "      <td>0.060170</td>\n",
       "      <td>-0.148550</td>\n",
       "      <td>0.055120</td>\n",
       "      <td>0.142161</td>\n",
       "      <td>0.200132</td>\n",
       "      <td>0.211898</td>\n",
       "      <td>0.813069</td>\n",
       "      <td>0.855535</td>\n",
       "      <td>1.000000</td>\n",
       "      <td>0.902093</td>\n",
       "      <td>0.800141</td>\n",
       "    </tr>\n",
       "    <tr>\n",
       "      <th>generation_gwh_2016</th>\n",
       "      <td>0.032634</td>\n",
       "      <td>0.319660</td>\n",
       "      <td>0.002238</td>\n",
       "      <td>0.086249</td>\n",
       "      <td>-0.096229</td>\n",
       "      <td>0.041964</td>\n",
       "      <td>0.179757</td>\n",
       "      <td>0.200318</td>\n",
       "      <td>0.212095</td>\n",
       "      <td>0.803750</td>\n",
       "      <td>0.831112</td>\n",
       "      <td>0.902093</td>\n",
       "      <td>1.000000</td>\n",
       "      <td>0.888413</td>\n",
       "    </tr>\n",
       "    <tr>\n",
       "      <th>generation_gwh_2017</th>\n",
       "      <td>0.050657</td>\n",
       "      <td>0.311168</td>\n",
       "      <td>0.004315</td>\n",
       "      <td>0.048367</td>\n",
       "      <td>-0.114997</td>\n",
       "      <td>0.055930</td>\n",
       "      <td>0.143160</td>\n",
       "      <td>0.202079</td>\n",
       "      <td>0.213960</td>\n",
       "      <td>0.744196</td>\n",
       "      <td>0.763802</td>\n",
       "      <td>0.800141</td>\n",
       "      <td>0.888413</td>\n",
       "      <td>1.000000</td>\n",
       "    </tr>\n",
       "  </tbody>\n",
       "</table>\n",
       "</div>"
      ],
      "text/plain": [
       "                         name  gppd_idnr  capacity_mw  latitude  longitude  \\\n",
       "name                 1.000000   0.336792     0.012749 -0.136241   0.033977   \n",
       "gppd_idnr            0.336792   1.000000    -0.566669 -0.101351  -0.399362   \n",
       "capacity_mw          0.012749  -0.566669     1.000000  0.080681   0.352094   \n",
       "latitude            -0.136241  -0.101351     0.080681  1.000000  -0.046356   \n",
       "longitude            0.033977  -0.399362     0.352094 -0.046356   1.000000   \n",
       "primary_fuel         0.038752   0.607373    -0.514198  0.005767  -0.391422   \n",
       "commissioning_year  -0.039119   0.012067     0.280870  0.085845   0.104196   \n",
       "source              -0.013801   0.416575    -0.393152  0.055135  -0.269345   \n",
       "url                  0.042711   0.596994    -0.349308 -0.128774  -0.315456   \n",
       "generation_gwh_2013  0.050131   0.354518    -0.027932  0.028773  -0.122781   \n",
       "generation_gwh_2014  0.048980   0.349401    -0.013597  0.065312  -0.132605   \n",
       "generation_gwh_2015  0.035561   0.344224    -0.017148  0.060170  -0.148550   \n",
       "generation_gwh_2016  0.032634   0.319660     0.002238  0.086249  -0.096229   \n",
       "generation_gwh_2017  0.050657   0.311168     0.004315  0.048367  -0.114997   \n",
       "\n",
       "                     primary_fuel  commissioning_year    source       url  \\\n",
       "name                     0.038752           -0.039119 -0.013801  0.042711   \n",
       "gppd_idnr                0.607373            0.012067  0.416575  0.596994   \n",
       "capacity_mw             -0.514198            0.280870 -0.393152 -0.349308   \n",
       "latitude                 0.005767            0.085845  0.055135 -0.128774   \n",
       "longitude               -0.391422            0.104196 -0.269345 -0.315456   \n",
       "primary_fuel             1.000000           -0.141909  0.053609  0.589348   \n",
       "commissioning_year      -0.141909            1.000000  0.001737 -0.011080   \n",
       "source                   0.053609            0.001737  1.000000  0.160379   \n",
       "url                      0.589348           -0.011080  0.160379  1.000000   \n",
       "generation_gwh_2013      0.061180            0.142177  0.201454  0.213298   \n",
       "generation_gwh_2014      0.060238            0.153406  0.198754  0.210440   \n",
       "generation_gwh_2015      0.055120            0.142161  0.200132  0.211898   \n",
       "generation_gwh_2016      0.041964            0.179757  0.200318  0.212095   \n",
       "generation_gwh_2017      0.055930            0.143160  0.202079  0.213960   \n",
       "\n",
       "                     generation_gwh_2013  generation_gwh_2014  \\\n",
       "name                            0.050131             0.048980   \n",
       "gppd_idnr                       0.354518             0.349401   \n",
       "capacity_mw                    -0.027932            -0.013597   \n",
       "latitude                        0.028773             0.065312   \n",
       "longitude                      -0.122781            -0.132605   \n",
       "primary_fuel                    0.061180             0.060238   \n",
       "commissioning_year              0.142177             0.153406   \n",
       "source                          0.201454             0.198754   \n",
       "url                             0.213298             0.210440   \n",
       "generation_gwh_2013             1.000000             0.911375   \n",
       "generation_gwh_2014             0.911375             1.000000   \n",
       "generation_gwh_2015             0.813069             0.855535   \n",
       "generation_gwh_2016             0.803750             0.831112   \n",
       "generation_gwh_2017             0.744196             0.763802   \n",
       "\n",
       "                     generation_gwh_2015  generation_gwh_2016  \\\n",
       "name                            0.035561             0.032634   \n",
       "gppd_idnr                       0.344224             0.319660   \n",
       "capacity_mw                    -0.017148             0.002238   \n",
       "latitude                        0.060170             0.086249   \n",
       "longitude                      -0.148550            -0.096229   \n",
       "primary_fuel                    0.055120             0.041964   \n",
       "commissioning_year              0.142161             0.179757   \n",
       "source                          0.200132             0.200318   \n",
       "url                             0.211898             0.212095   \n",
       "generation_gwh_2013             0.813069             0.803750   \n",
       "generation_gwh_2014             0.855535             0.831112   \n",
       "generation_gwh_2015             1.000000             0.902093   \n",
       "generation_gwh_2016             0.902093             1.000000   \n",
       "generation_gwh_2017             0.800141             0.888413   \n",
       "\n",
       "                     generation_gwh_2017  \n",
       "name                            0.050657  \n",
       "gppd_idnr                       0.311168  \n",
       "capacity_mw                     0.004315  \n",
       "latitude                        0.048367  \n",
       "longitude                      -0.114997  \n",
       "primary_fuel                    0.055930  \n",
       "commissioning_year              0.143160  \n",
       "source                          0.202079  \n",
       "url                             0.213960  \n",
       "generation_gwh_2013             0.744196  \n",
       "generation_gwh_2014             0.763802  \n",
       "generation_gwh_2015             0.800141  \n",
       "generation_gwh_2016             0.888413  \n",
       "generation_gwh_2017             1.000000  "
      ]
     },
     "execution_count": 45,
     "metadata": {},
     "output_type": "execute_result"
    }
   ],
   "source": [
    "cor=df1.corr()\n",
    "cor"
   ]
  },
  {
   "cell_type": "code",
   "execution_count": 46,
   "metadata": {},
   "outputs": [
    {
     "data": {
      "text/plain": [
       "<AxesSubplot:>"
      ]
     },
     "execution_count": 46,
     "metadata": {},
     "output_type": "execute_result"
    },
    {
     "data": {
      "image/png": "[encoded data removed]",
      "text/plain": [
       "<Figure size 1440x1440 with 2 Axes>"
      ]
     },
     "metadata": {
      "needs_background": "light"
     },
     "output_type": "display_data"
    }
   ],
   "source": [
    "fig, ax_size = plt.subplots(figsize=(20,20))\n",
    "sns.heatmap(cor,annot=True,ax=ax_size,linecolor='r')"
   ]
  },
  {
   "cell_type": "markdown",
   "metadata": {},
   "source": [
    "### Variance Inflation Factor"
   ]
  },
  {
   "cell_type": "code",
   "execution_count": 47,
   "metadata": {},
   "outputs": [],
   "source": [
    "from statsmodels.stats.outliers_influence import variance_inflation_factor"
   ]
  },
  {
   "cell_type": "code",
   "execution_count": 48,
   "metadata": {},
   "outputs": [],
   "source": [
    "vif_data = pd.DataFrame()\n",
    "vif_data[\"feature\"] = df1.columns"
   ]
  },
  {
   "cell_type": "code",
   "execution_count": 49,
   "metadata": {},
   "outputs": [
    {
     "name": "stdout",
     "output_type": "stream",
     "text": [
      "                feature        VIF\n",
      "0                  name   5.365984\n",
      "1             gppd_idnr  16.581195\n",
      "2           capacity_mw   6.430021\n",
      "3              latitude   4.267137\n",
      "4             longitude   4.630229\n",
      "5          primary_fuel   6.344964\n",
      "6    commissioning_year  15.533245\n",
      "7                source   2.879827\n",
      "8                   url   5.322372\n",
      "9   generation_gwh_2013  50.038736\n",
      "10  generation_gwh_2014  58.385410\n",
      "11  generation_gwh_2015  48.205108\n",
      "12  generation_gwh_2016  65.840838\n",
      "13  generation_gwh_2017  32.683812\n"
     ]
    }
   ],
   "source": [
    "vif_data[\"VIF\"] = [variance_inflation_factor(df1.values, i)\n",
    "                            for i in range(len(df1.columns))]\n",
    "print(vif_data)"
   ]
  },
  {
   "cell_type": "markdown",
   "metadata": {},
   "source": [
    "generation_gwh_2013, generation_gwh_2014, generation_gwh_2015, generation_gwh_2016 and generation_gwh_2017 are having high multi collinearinty and can be dropped"
   ]
  },
  {
   "cell_type": "code",
   "execution_count": 50,
   "metadata": {},
   "outputs": [],
   "source": [
    "df1.drop(['generation_gwh_2013'], axis = 1, inplace = True)\n",
    "df1.drop(['generation_gwh_2014'], axis = 1, inplace = True)\n",
    "df1.drop(['generation_gwh_2015'], axis = 1, inplace = True)\n",
    "df1.drop(['generation_gwh_2016'], axis = 1, inplace = True)\n",
    "df1.drop(['generation_gwh_2017'], axis = 1, inplace = True)"
   ]
  },
  {
   "cell_type": "code",
   "execution_count": 51,
   "metadata": {},
   "outputs": [
    {
     "data": {
      "text/html": [
       "<div>\n",
       "<style scoped>\n",
       "    .dataframe tbody tr th:only-of-type {\n",
       "        vertical-align: middle;\n",
       "    }\n",
       "\n",
       "    .dataframe tbody tr th {\n",
       "        vertical-align: top;\n",
       "    }\n",
       "\n",
       "    .dataframe thead th {\n",
       "        text-align: right;\n",
       "    }\n",
       "</style>\n",
       "<table border=\"1\" class=\"dataframe\">\n",
       "  <thead>\n",
       "    <tr style=\"text-align: right;\">\n",
       "      <th></th>\n",
       "      <th>name</th>\n",
       "      <th>gppd_idnr</th>\n",
       "      <th>capacity_mw</th>\n",
       "      <th>latitude</th>\n",
       "      <th>longitude</th>\n",
       "      <th>primary_fuel</th>\n",
       "      <th>commissioning_year</th>\n",
       "      <th>source</th>\n",
       "      <th>url</th>\n",
       "    </tr>\n",
       "  </thead>\n",
       "  <tbody>\n",
       "    <tr>\n",
       "      <th>name</th>\n",
       "      <td>1.000000</td>\n",
       "      <td>0.336792</td>\n",
       "      <td>0.012749</td>\n",
       "      <td>-0.136241</td>\n",
       "      <td>0.033977</td>\n",
       "      <td>0.038752</td>\n",
       "      <td>-0.039119</td>\n",
       "      <td>-0.013801</td>\n",
       "      <td>0.042711</td>\n",
       "    </tr>\n",
       "    <tr>\n",
       "      <th>gppd_idnr</th>\n",
       "      <td>0.336792</td>\n",
       "      <td>1.000000</td>\n",
       "      <td>-0.566669</td>\n",
       "      <td>-0.101351</td>\n",
       "      <td>-0.399362</td>\n",
       "      <td>0.607373</td>\n",
       "      <td>0.012067</td>\n",
       "      <td>0.416575</td>\n",
       "      <td>0.596994</td>\n",
       "    </tr>\n",
       "    <tr>\n",
       "      <th>capacity_mw</th>\n",
       "      <td>0.012749</td>\n",
       "      <td>-0.566669</td>\n",
       "      <td>1.000000</td>\n",
       "      <td>0.080681</td>\n",
       "      <td>0.352094</td>\n",
       "      <td>-0.514198</td>\n",
       "      <td>0.280870</td>\n",
       "      <td>-0.393152</td>\n",
       "      <td>-0.349308</td>\n",
       "    </tr>\n",
       "    <tr>\n",
       "      <th>latitude</th>\n",
       "      <td>-0.136241</td>\n",
       "      <td>-0.101351</td>\n",
       "      <td>0.080681</td>\n",
       "      <td>1.000000</td>\n",
       "      <td>-0.046356</td>\n",
       "      <td>0.005767</td>\n",
       "      <td>0.085845</td>\n",
       "      <td>0.055135</td>\n",
       "      <td>-0.128774</td>\n",
       "    </tr>\n",
       "    <tr>\n",
       "      <th>longitude</th>\n",
       "      <td>0.033977</td>\n",
       "      <td>-0.399362</td>\n",
       "      <td>0.352094</td>\n",
       "      <td>-0.046356</td>\n",
       "      <td>1.000000</td>\n",
       "      <td>-0.391422</td>\n",
       "      <td>0.104196</td>\n",
       "      <td>-0.269345</td>\n",
       "      <td>-0.315456</td>\n",
       "    </tr>\n",
       "    <tr>\n",
       "      <th>primary_fuel</th>\n",
       "      <td>0.038752</td>\n",
       "      <td>0.607373</td>\n",
       "      <td>-0.514198</td>\n",
       "      <td>0.005767</td>\n",
       "      <td>-0.391422</td>\n",
       "      <td>1.000000</td>\n",
       "      <td>-0.141909</td>\n",
       "      <td>0.053609</td>\n",
       "      <td>0.589348</td>\n",
       "    </tr>\n",
       "    <tr>\n",
       "      <th>commissioning_year</th>\n",
       "      <td>-0.039119</td>\n",
       "      <td>0.012067</td>\n",
       "      <td>0.280870</td>\n",
       "      <td>0.085845</td>\n",
       "      <td>0.104196</td>\n",
       "      <td>-0.141909</td>\n",
       "      <td>1.000000</td>\n",
       "      <td>0.001737</td>\n",
       "      <td>-0.011080</td>\n",
       "    </tr>\n",
       "    <tr>\n",
       "      <th>source</th>\n",
       "      <td>-0.013801</td>\n",
       "      <td>0.416575</td>\n",
       "      <td>-0.393152</td>\n",
       "      <td>0.055135</td>\n",
       "      <td>-0.269345</td>\n",
       "      <td>0.053609</td>\n",
       "      <td>0.001737</td>\n",
       "      <td>1.000000</td>\n",
       "      <td>0.160379</td>\n",
       "    </tr>\n",
       "    <tr>\n",
       "      <th>url</th>\n",
       "      <td>0.042711</td>\n",
       "      <td>0.596994</td>\n",
       "      <td>-0.349308</td>\n",
       "      <td>-0.128774</td>\n",
       "      <td>-0.315456</td>\n",
       "      <td>0.589348</td>\n",
       "      <td>-0.011080</td>\n",
       "      <td>0.160379</td>\n",
       "      <td>1.000000</td>\n",
       "    </tr>\n",
       "  </tbody>\n",
       "</table>\n",
       "</div>"
      ],
      "text/plain": [
       "                        name  gppd_idnr  capacity_mw  latitude  longitude  \\\n",
       "name                1.000000   0.336792     0.012749 -0.136241   0.033977   \n",
       "gppd_idnr           0.336792   1.000000    -0.566669 -0.101351  -0.399362   \n",
       "capacity_mw         0.012749  -0.566669     1.000000  0.080681   0.352094   \n",
       "latitude           -0.136241  -0.101351     0.080681  1.000000  -0.046356   \n",
       "longitude           0.033977  -0.399362     0.352094 -0.046356   1.000000   \n",
       "primary_fuel        0.038752   0.607373    -0.514198  0.005767  -0.391422   \n",
       "commissioning_year -0.039119   0.012067     0.280870  0.085845   0.104196   \n",
       "source             -0.013801   0.416575    -0.393152  0.055135  -0.269345   \n",
       "url                 0.042711   0.596994    -0.349308 -0.128774  -0.315456   \n",
       "\n",
       "                    primary_fuel  commissioning_year    source       url  \n",
       "name                    0.038752           -0.039119 -0.013801  0.042711  \n",
       "gppd_idnr               0.607373            0.012067  0.416575  0.596994  \n",
       "capacity_mw            -0.514198            0.280870 -0.393152 -0.349308  \n",
       "latitude                0.005767            0.085845  0.055135 -0.128774  \n",
       "longitude              -0.391422            0.104196 -0.269345 -0.315456  \n",
       "primary_fuel            1.000000           -0.141909  0.053609  0.589348  \n",
       "commissioning_year     -0.141909            1.000000  0.001737 -0.011080  \n",
       "source                  0.053609            0.001737  1.000000  0.160379  \n",
       "url                     0.589348           -0.011080  0.160379  1.000000  "
      ]
     },
     "execution_count": 51,
     "metadata": {},
     "output_type": "execute_result"
    }
   ],
   "source": [
    "cor=df1.corr()\n",
    "cor"
   ]
  },
  {
   "cell_type": "code",
   "execution_count": 52,
   "metadata": {},
   "outputs": [
    {
     "data": {
      "text/plain": [
       "<AxesSubplot:>"
      ]
     },
     "execution_count": 52,
     "metadata": {},
     "output_type": "execute_result"
    },
    {
     "data": {
      "image/png": "[encoded data removed]",
      "text/plain": [
       "<Figure size 1440x1440 with 2 Axes>"
      ]
     },
     "metadata": {
      "needs_background": "light"
     },
     "output_type": "display_data"
    }
   ],
   "source": [
    "fig, ax_size = plt.subplots(figsize=(20,20))\n",
    "sns.heatmap(cor,annot=True,ax=ax_size,linecolor='r')"
   ]
  },
  {
   "cell_type": "markdown",
   "metadata": {},
   "source": [
    "### Defining Independent and dependent variables"
   ]
  },
  {
   "cell_type": "code",
   "execution_count": 53,
   "metadata": {},
   "outputs": [],
   "source": [
    "x=df1.drop('primary_fuel',axis=1)\n",
    "y=df1['primary_fuel']"
   ]
  },
  {
   "cell_type": "markdown",
   "metadata": {},
   "source": [
    "### Model Creation"
   ]
  },
  {
   "cell_type": "code",
   "execution_count": 54,
   "metadata": {},
   "outputs": [],
   "source": [
    "from sklearn.preprocessing import MinMaxScaler\n",
    "mms=MinMaxScaler()\n",
    "from sklearn.linear_model import LinearRegression\n",
    "lr=LinearRegression()\n",
    "from sklearn.metrics import r2_score\n",
    "from sklearn.model_selection import train_test_split"
   ]
  },
  {
   "cell_type": "code",
   "execution_count": 55,
   "metadata": {},
   "outputs": [],
   "source": [
    "x_train,x_test,y_train,y_test = train_test_split(x,y,test_size=0.20, random_state=10)"
   ]
  },
  {
   "cell_type": "markdown",
   "metadata": {},
   "source": [
    "### Linear Regression Model"
   ]
  },
  {
   "cell_type": "code",
   "execution_count": 56,
   "metadata": {},
   "outputs": [
    {
     "data": {
      "text/plain": [
       "LinearRegression()"
      ]
     },
     "execution_count": 56,
     "metadata": {},
     "output_type": "execute_result"
    }
   ],
   "source": [
    "lr.fit(x_train,y_train)"
   ]
  },
  {
   "cell_type": "code",
   "execution_count": 57,
   "metadata": {},
   "outputs": [],
   "source": [
    "pred_lr=lr.predict(x_test)"
   ]
  },
  {
   "cell_type": "code",
   "execution_count": 58,
   "metadata": {},
   "outputs": [
    {
     "name": "stdout",
     "output_type": "stream",
     "text": [
      "0.6081363859503734\n"
     ]
    }
   ],
   "source": [
    "print(r2_score(y_test,pred_lr))"
   ]
  },
  {
   "cell_type": "code",
   "execution_count": 59,
   "metadata": {},
   "outputs": [
    {
     "data": {
      "text/plain": [
       "0.5652281980017765"
      ]
     },
     "execution_count": 59,
     "metadata": {},
     "output_type": "execute_result"
    }
   ],
   "source": [
    "from sklearn.model_selection import cross_val_score\n",
    "\n",
    "\n",
    "scores = cross_val_score(lr, x_train, y_train, scoring='r2', cv=5)\n",
    "scores.mean()"
   ]
  },
  {
   "cell_type": "markdown",
   "metadata": {},
   "source": [
    "### Lasso Regression Model"
   ]
  },
  {
   "cell_type": "code",
   "execution_count": 60,
   "metadata": {},
   "outputs": [],
   "source": [
    "from sklearn.model_selection import GridSearchCV\n",
    "from sklearn.model_selection import cross_val_score"
   ]
  },
  {
   "cell_type": "code",
   "execution_count": 61,
   "metadata": {},
   "outputs": [
    {
     "name": "stdout",
     "output_type": "stream",
     "text": [
      "{'alpha': 0.01, 'random_state': 0}\n"
     ]
    }
   ],
   "source": [
    "from sklearn.linear_model import Lasso\n",
    "\n",
    "parameters = {'alpha':[.0001, .001, .01, .1, 1, 10],'random_state':list(range(0,10))}\n",
    "ls = Lasso()\n",
    "clf = GridSearchCV(ls,parameters)\n",
    "clf.fit(x_train,y_train)\n",
    "\n",
    "print(clf.best_params_)"
   ]
  },
  {
   "cell_type": "code",
   "execution_count": 62,
   "metadata": {},
   "outputs": [
    {
     "data": {
      "text/plain": [
       "0.6081309197804732"
      ]
     },
     "execution_count": 62,
     "metadata": {},
     "output_type": "execute_result"
    }
   ],
   "source": [
    "ls = Lasso(alpha=0.01,random_state=0)\n",
    "ls.fit(x_train,y_train)\n",
    "ls.score(x_train,y_train)\n",
    "pred_ls = ls.predict(x_test)\n",
    "\n",
    "lss = r2_score(y_test,pred_ls)\n",
    "lss"
   ]
  },
  {
   "cell_type": "code",
   "execution_count": 63,
   "metadata": {},
   "outputs": [
    {
     "data": {
      "text/plain": [
       "0.5429423440411942"
      ]
     },
     "execution_count": 63,
     "metadata": {},
     "output_type": "execute_result"
    }
   ],
   "source": [
    "cv_score=cross_val_score(ls,x,y,cv=5)\n",
    "cv_mean=cv_score.mean()\n",
    "cv_mean"
   ]
  },
  {
   "cell_type": "markdown",
   "metadata": {},
   "source": [
    "### Random Forest Regressor"
   ]
  },
  {
   "cell_type": "code",
   "execution_count": 64,
   "metadata": {},
   "outputs": [
    {
     "name": "stdout",
     "output_type": "stream",
     "text": [
      "{'criterion': 'mse', 'max_features': 'log2'}\n"
     ]
    }
   ],
   "source": [
    "from sklearn.model_selection import GridSearchCV\n",
    "from sklearn.ensemble import RandomForestRegressor\n",
    "\n",
    "parameters = {'criterion':['mse', 'mae'],'max_features':[\"auto\", \"sqrt\", \"log2\"]}\n",
    "rf =RandomForestRegressor()\n",
    "clf = GridSearchCV(rf,parameters)\n",
    "clf.fit(x_train,y_train)\n",
    "\n",
    "print(clf.best_params_)"
   ]
  },
  {
   "cell_type": "code",
   "execution_count": 65,
   "metadata": {},
   "outputs": [
    {
     "name": "stdout",
     "output_type": "stream",
     "text": [
      "R2 Score: 92.19360163640427\n",
      "Cross Val Score: 90.56139428926242\n"
     ]
    }
   ],
   "source": [
    "rf= RandomForestRegressor(criterion=\"mse\", max_features =\"log2\")\n",
    "rf.fit(x_train, y_train)\n",
    "rf.score(x_train, y_train)\n",
    "pred_decision = rf.predict(x_test)\n",
    "\n",
    "rfs = r2_score(y_test,pred_decision)\n",
    "print('R2 Score:',rfs*100)\n",
    "\n",
    "rfscore = cross_val_score(rf,x,y,cv=5)\n",
    "rfc = rfscore.mean()\n",
    "print('Cross Val Score:',rfc*100)"
   ]
  },
  {
   "cell_type": "markdown",
   "metadata": {},
   "source": [
    "### Difference between R2 and CV score"
   ]
  },
  {
   "cell_type": "markdown",
   "metadata": {},
   "source": [
    "Linear Regression: 61-57=4\n",
    "\n",
    "Lasso Regressor: 61-54=7\n",
    "\n",
    "Random Forest Regressor: 92-91=1\n",
    "\n",
    "Random forest regressor has the least difference and highest accuracy. Hence using the same for final model."
   ]
  },
  {
   "cell_type": "code",
   "execution_count": 68,
   "metadata": {},
   "outputs": [],
   "source": [
    "import pickle\n",
    "filename = 'global_powerplant_database.pkl'\n",
    "pickle.dump(rf, open(filename, 'wb'))"
   ]
  },
  {
   "cell_type": "code",
   "execution_count": 69,
   "metadata": {},
   "outputs": [
    {
     "name": "stdout",
     "output_type": "stream",
     "text": [
      "0.9219360163640427\n"
     ]
    }
   ],
   "source": [
    "Final_model = pickle.load(open('global_powerplant_database.pkl', 'rb'))\n",
    "result = Final_model.score(x_test, y_test)\n",
    "print(result)"
   ]
  },
  {
   "cell_type": "code",
   "execution_count": 72,
   "metadata": {},
   "outputs": [
    {
     "data": {
      "text/html": [
       "<div>\n",
       "<style scoped>\n",
       "    .dataframe tbody tr th:only-of-type {\n",
       "        vertical-align: middle;\n",
       "    }\n",
       "\n",
       "    .dataframe tbody tr th {\n",
       "        vertical-align: top;\n",
       "    }\n",
       "\n",
       "    .dataframe thead th {\n",
       "        text-align: right;\n",
       "    }\n",
       "</style>\n",
       "<table border=\"1\" class=\"dataframe\">\n",
       "  <thead>\n",
       "    <tr style=\"text-align: right;\">\n",
       "      <th></th>\n",
       "      <th>0</th>\n",
       "      <th>1</th>\n",
       "      <th>2</th>\n",
       "      <th>3</th>\n",
       "      <th>4</th>\n",
       "      <th>5</th>\n",
       "      <th>6</th>\n",
       "      <th>7</th>\n",
       "      <th>8</th>\n",
       "      <th>9</th>\n",
       "      <th>...</th>\n",
       "      <th>172</th>\n",
       "      <th>173</th>\n",
       "      <th>174</th>\n",
       "      <th>175</th>\n",
       "      <th>176</th>\n",
       "      <th>177</th>\n",
       "      <th>178</th>\n",
       "      <th>179</th>\n",
       "      <th>180</th>\n",
       "      <th>181</th>\n",
       "    </tr>\n",
       "  </thead>\n",
       "  <tbody>\n",
       "    <tr>\n",
       "      <th>Predicted</th>\n",
       "      <td>0.68</td>\n",
       "      <td>3.07</td>\n",
       "      <td>3.0</td>\n",
       "      <td>1.0</td>\n",
       "      <td>7.0</td>\n",
       "      <td>2.85</td>\n",
       "      <td>5.73</td>\n",
       "      <td>7.0</td>\n",
       "      <td>6.97</td>\n",
       "      <td>2.68</td>\n",
       "      <td>...</td>\n",
       "      <td>6.93</td>\n",
       "      <td>1.04</td>\n",
       "      <td>1.3</td>\n",
       "      <td>6.96</td>\n",
       "      <td>1.25</td>\n",
       "      <td>6.0</td>\n",
       "      <td>6.0</td>\n",
       "      <td>2.63</td>\n",
       "      <td>7.0</td>\n",
       "      <td>5.96</td>\n",
       "    </tr>\n",
       "    <tr>\n",
       "      <th>Actual</th>\n",
       "      <td>0.68</td>\n",
       "      <td>3.07</td>\n",
       "      <td>3.0</td>\n",
       "      <td>1.0</td>\n",
       "      <td>7.0</td>\n",
       "      <td>2.85</td>\n",
       "      <td>5.73</td>\n",
       "      <td>7.0</td>\n",
       "      <td>6.97</td>\n",
       "      <td>2.68</td>\n",
       "      <td>...</td>\n",
       "      <td>6.93</td>\n",
       "      <td>1.04</td>\n",
       "      <td>1.3</td>\n",
       "      <td>6.96</td>\n",
       "      <td>1.25</td>\n",
       "      <td>6.0</td>\n",
       "      <td>6.0</td>\n",
       "      <td>2.63</td>\n",
       "      <td>7.0</td>\n",
       "      <td>5.96</td>\n",
       "    </tr>\n",
       "  </tbody>\n",
       "</table>\n",
       "<p>2 rows × 182 columns</p>\n",
       "</div>"
      ],
      "text/plain": [
       "            0     1    2    3    4     5     6    7     8     9    ...   172  \\\n",
       "Predicted  0.68  3.07  3.0  1.0  7.0  2.85  5.73  7.0  6.97  2.68  ...  6.93   \n",
       "Actual     0.68  3.07  3.0  1.0  7.0  2.85  5.73  7.0  6.97  2.68  ...  6.93   \n",
       "\n",
       "            173  174   175   176  177  178   179  180   181  \n",
       "Predicted  1.04  1.3  6.96  1.25  6.0  6.0  2.63  7.0  5.96  \n",
       "Actual     1.04  1.3  6.96  1.25  6.0  6.0  2.63  7.0  5.96  \n",
       "\n",
       "[2 rows x 182 columns]"
      ]
     },
     "execution_count": 72,
     "metadata": {},
     "output_type": "execute_result"
    }
   ],
   "source": [
    "conclusion=pd.DataFrame([Final_model.predict(x_test)[:],pred_decision[:]],index=[\"Predicted\",\"Actual\"])\n",
    "conclusion"
   ]
  },
  {
   "cell_type": "markdown",
   "metadata": {},
   "source": [
    "Predicted and Actual values are same"
   ]
  },
  {
   "cell_type": "markdown",
   "metadata": {},
   "source": [
    "### Prediction for Capacity_mw"
   ]
  },
  {
   "cell_type": "code",
   "execution_count": 73,
   "metadata": {},
   "outputs": [
    {
     "data": {
      "text/plain": [
       "Index(['name', 'gppd_idnr', 'capacity_mw', 'latitude', 'longitude',\n",
       "       'primary_fuel', 'commissioning_year', 'source', 'url'],\n",
       "      dtype='object')"
      ]
     },
     "execution_count": 73,
     "metadata": {},
     "output_type": "execute_result"
    }
   ],
   "source": [
    "df1.columns"
   ]
  },
  {
   "cell_type": "code",
   "execution_count": 74,
   "metadata": {},
   "outputs": [],
   "source": [
    "x1=df1.drop('capacity_mw',axis=1)\n",
    "y1=df1['capacity_mw']"
   ]
  },
  {
   "cell_type": "code",
   "execution_count": 75,
   "metadata": {},
   "outputs": [],
   "source": [
    "x1_train,x1_test,y1_train,y1_test = train_test_split(x1,y1,test_size=0.20, random_state=10)"
   ]
  },
  {
   "cell_type": "code",
   "execution_count": 76,
   "metadata": {},
   "outputs": [],
   "source": [
    "# creating normalization object \n",
    "norm = MinMaxScaler()\n",
    "# fit data\n",
    "norm_fit = norm.fit(x1_train)\n",
    "new_xtrain = norm_fit.transform(x1_train)\n",
    "new_xtest = norm_fit.transform(x1_test)"
   ]
  },
  {
   "cell_type": "code",
   "execution_count": 77,
   "metadata": {},
   "outputs": [
    {
     "name": "stdout",
     "output_type": "stream",
     "text": [
      "[[0.4553473  0.73812155 0.06347305 ... 0.69014085 0.11111111 0.93069307]\n",
      " [0.10363837 0.06187845 0.43353293 ... 0.84507042 0.11640212 0.19141914]\n",
      " [0.2646086  0.13922652 0.61197605 ... 0.45070423 0.11640212 0.19141914]\n",
      " ...\n",
      " [0.58103638 0.30939227 0.95449102 ... 0.78873239 0.11640212 0.19141914]\n",
      " [0.13781698 0.74475138 0.18922156 ... 0.69014085 0.11111111 0.65346535]\n",
      " [0.292172   0.75248619 0.46826347 ... 0.69014085 0.11111111 0.68646865]]\n"
     ]
    }
   ],
   "source": [
    "print(new_xtrain)"
   ]
  },
  {
   "cell_type": "code",
   "execution_count": 78,
   "metadata": {},
   "outputs": [
    {
     "name": "stdout",
     "output_type": "stream",
     "text": [
      "[[0.58324146 0.71491713 0.48023952 ... 0.69014085 0.56613757 0.22112211]\n",
      " [0.1014333  0.05966851 0.31616766 ... 0.56338028 0.11640212 0.19141914]\n",
      " [0.65380375 0.35801105 0.05508982 ... 0.15492958 0.11640212 0.19141914]\n",
      " ...\n",
      " [0.62844542 0.33480663 0.98922156 ... 0.63380282 0.11640212 0.19141914]\n",
      " [0.85446527 0.96243094 0.43113772 ... 0.69014085 0.11111111 0.84488449]\n",
      " [0.21719956 0.8121547  0.69101796 ... 0.69014085 0.20634921 0.22772277]]\n"
     ]
    }
   ],
   "source": [
    "print(new_xtest)"
   ]
  },
  {
   "cell_type": "markdown",
   "metadata": {},
   "source": [
    "### Model Generation"
   ]
  },
  {
   "cell_type": "markdown",
   "metadata": {},
   "source": [
    "### Linear Regression Model"
   ]
  },
  {
   "cell_type": "code",
   "execution_count": 80,
   "metadata": {},
   "outputs": [
    {
     "data": {
      "text/plain": [
       "LinearRegression()"
      ]
     },
     "execution_count": 80,
     "metadata": {},
     "output_type": "execute_result"
    }
   ],
   "source": [
    "lr1=LinearRegression()\n",
    "lr1.fit(x1_train,y1_train)"
   ]
  },
  {
   "cell_type": "code",
   "execution_count": 81,
   "metadata": {},
   "outputs": [
    {
     "data": {
      "text/plain": [
       "0.5139008919404707"
      ]
     },
     "execution_count": 81,
     "metadata": {},
     "output_type": "execute_result"
    }
   ],
   "source": [
    "lr1.score(x1_train,y1_train)"
   ]
  },
  {
   "cell_type": "code",
   "execution_count": 82,
   "metadata": {},
   "outputs": [],
   "source": [
    "pred_lr1=lr1.predict(x1_test)"
   ]
  },
  {
   "cell_type": "code",
   "execution_count": 83,
   "metadata": {},
   "outputs": [
    {
     "name": "stdout",
     "output_type": "stream",
     "text": [
      "0.49388551355436994\n"
     ]
    }
   ],
   "source": [
    "print(r2_score(y1_test,pred_lr1))"
   ]
  },
  {
   "cell_type": "code",
   "execution_count": 87,
   "metadata": {},
   "outputs": [
    {
     "data": {
      "text/plain": [
       "0.4960720461745296"
      ]
     },
     "execution_count": 87,
     "metadata": {},
     "output_type": "execute_result"
    }
   ],
   "source": [
    "from sklearn.model_selection import cross_val_score\n",
    "cvscore_lr1= cross_val_score(lr1,x1_train,y1_train, scoring = 'r2', cv =2)\n",
    "cv_mean=cvscore_lr1.mean()\n",
    "cv_mean"
   ]
  },
  {
   "cell_type": "markdown",
   "metadata": {},
   "source": [
    "### Lasso Regression Model"
   ]
  },
  {
   "cell_type": "code",
   "execution_count": 88,
   "metadata": {},
   "outputs": [],
   "source": [
    "from sklearn.model_selection import GridSearchCV\n",
    "from sklearn.model_selection import cross_val_score"
   ]
  },
  {
   "cell_type": "code",
   "execution_count": 89,
   "metadata": {},
   "outputs": [
    {
     "name": "stdout",
     "output_type": "stream",
     "text": [
      "{'alpha': 1, 'random_state': 0}\n"
     ]
    }
   ],
   "source": [
    "from sklearn.linear_model import Lasso\n",
    "\n",
    "parameters = {'alpha':[.0001, .001, .01, .1, 1, 10],'random_state':list(range(0,10))}\n",
    "ls1 = Lasso()\n",
    "clf = GridSearchCV(ls1,parameters)\n",
    "clf.fit(x1_train,y1_train)\n",
    "\n",
    "print(clf.best_params_)"
   ]
  },
  {
   "cell_type": "code",
   "execution_count": 90,
   "metadata": {},
   "outputs": [
    {
     "data": {
      "text/plain": [
       "0.5138661246777334"
      ]
     },
     "execution_count": 90,
     "metadata": {},
     "output_type": "execute_result"
    }
   ],
   "source": [
    "ls1 = Lasso(alpha=1)\n",
    "ls1.fit(x1_train,y1_train)\n",
    "ls1.score(x1_train,y1_train)"
   ]
  },
  {
   "cell_type": "code",
   "execution_count": 91,
   "metadata": {},
   "outputs": [
    {
     "data": {
      "text/plain": [
       "0.4934814695963884"
      ]
     },
     "execution_count": 91,
     "metadata": {},
     "output_type": "execute_result"
    }
   ],
   "source": [
    "cv_score=cross_val_score(ls1,x1,y1,cv=5)\n",
    "cv_mean=cv_score.mean()\n",
    "cv_mean"
   ]
  },
  {
   "cell_type": "code",
   "execution_count": 92,
   "metadata": {},
   "outputs": [],
   "source": [
    "pred_ls1=ls1.predict(x1_test)"
   ]
  },
  {
   "cell_type": "code",
   "execution_count": 93,
   "metadata": {},
   "outputs": [
    {
     "name": "stdout",
     "output_type": "stream",
     "text": [
      "0.4948107406853818\n"
     ]
    }
   ],
   "source": [
    "print(r2_score(y1_test,pred_ls1))"
   ]
  },
  {
   "cell_type": "markdown",
   "metadata": {},
   "source": [
    "### Random Forest Regressor"
   ]
  },
  {
   "cell_type": "code",
   "execution_count": 94,
   "metadata": {},
   "outputs": [
    {
     "name": "stdout",
     "output_type": "stream",
     "text": [
      "{'criterion': 'mse', 'max_features': 'log2'}\n"
     ]
    }
   ],
   "source": [
    "parameters = {'criterion':['mse'],'max_features':[\"auto\", \"sqrt\", \"log2\"]}\n",
    "rf1 =RandomForestRegressor()\n",
    "clf = GridSearchCV(rf,parameters)\n",
    "clf.fit(x1_train,y1_train)\n",
    "\n",
    "print(clf.best_params_)"
   ]
  },
  {
   "cell_type": "code",
   "execution_count": 95,
   "metadata": {},
   "outputs": [
    {
     "name": "stdout",
     "output_type": "stream",
     "text": [
      "R2 Score: 64.77642651988371\n",
      "Cross Val Score: 63.93333708299815\n"
     ]
    }
   ],
   "source": [
    "rf1= RandomForestRegressor(criterion=\"mse\", max_features =\"log2\")\n",
    "rf1.fit(x1_train, y1_train)\n",
    "rf1.score(x1_train, y1_train)\n",
    "pred_rf1 = rf1.predict(x1_test)\n",
    "\n",
    "rfs = r2_score(y1_test,pred_rf1)\n",
    "print('R2 Score:',rfs*100)\n",
    "\n",
    "rfscore = cross_val_score(rf,x1,y1,cv=5)\n",
    "rfc = rfscore.mean()\n",
    "print('Cross Val Score:',rfc*100)"
   ]
  },
  {
   "cell_type": "markdown",
   "metadata": {},
   "source": [
    "### Difference Between R2 and CV score"
   ]
  },
  {
   "cell_type": "markdown",
   "metadata": {},
   "source": [
    "Linear Regression = 49.38 - 49.60 = -1.22\n",
    "\n",
    "Lasso regressor = 49.34 - 49.48 = -0.14\n",
    "\n",
    "RandomForestRegressor = 64.77 - 63.93 = 0.84\n",
    "\n",
    "Lasso Regressor has the least difference"
   ]
  },
  {
   "cell_type": "code",
   "execution_count": 100,
   "metadata": {},
   "outputs": [],
   "source": [
    "import pickle\n",
    "filename = 'global_powerplant_capacity.pkl'\n",
    "pickle.dump(rf1, open(filename, 'wb'))"
   ]
  },
  {
   "cell_type": "code",
   "execution_count": 101,
   "metadata": {},
   "outputs": [
    {
     "name": "stdout",
     "output_type": "stream",
     "text": [
      "0.6477642651988371\n"
     ]
    }
   ],
   "source": [
    "Final_model = pickle.load(open('global_powerplant_capacity.pkl', 'rb'))\n",
    "result = Final_model.score(x1_test, y1_test)\n",
    "print(result)"
   ]
  },
  {
   "cell_type": "code",
   "execution_count": 103,
   "metadata": {},
   "outputs": [
    {
     "data": {
      "text/html": [
       "<div>\n",
       "<style scoped>\n",
       "    .dataframe tbody tr th:only-of-type {\n",
       "        vertical-align: middle;\n",
       "    }\n",
       "\n",
       "    .dataframe tbody tr th {\n",
       "        vertical-align: top;\n",
       "    }\n",
       "\n",
       "    .dataframe thead th {\n",
       "        text-align: right;\n",
       "    }\n",
       "</style>\n",
       "<table border=\"1\" class=\"dataframe\">\n",
       "  <thead>\n",
       "    <tr style=\"text-align: right;\">\n",
       "      <th></th>\n",
       "      <th>0</th>\n",
       "      <th>1</th>\n",
       "      <th>2</th>\n",
       "      <th>3</th>\n",
       "      <th>4</th>\n",
       "      <th>5</th>\n",
       "      <th>6</th>\n",
       "      <th>7</th>\n",
       "      <th>8</th>\n",
       "      <th>9</th>\n",
       "      <th>...</th>\n",
       "      <th>172</th>\n",
       "      <th>173</th>\n",
       "      <th>174</th>\n",
       "      <th>175</th>\n",
       "      <th>176</th>\n",
       "      <th>177</th>\n",
       "      <th>178</th>\n",
       "      <th>179</th>\n",
       "      <th>180</th>\n",
       "      <th>181</th>\n",
       "    </tr>\n",
       "  </thead>\n",
       "  <tbody>\n",
       "    <tr>\n",
       "      <th>Predicted</th>\n",
       "      <td>104.41</td>\n",
       "      <td>188.93</td>\n",
       "      <td>143.56</td>\n",
       "      <td>275.64</td>\n",
       "      <td>40.32</td>\n",
       "      <td>119.51</td>\n",
       "      <td>102.29</td>\n",
       "      <td>129.72</td>\n",
       "      <td>88.96</td>\n",
       "      <td>200.19</td>\n",
       "      <td>...</td>\n",
       "      <td>126.41</td>\n",
       "      <td>287.05</td>\n",
       "      <td>156.25</td>\n",
       "      <td>94.38</td>\n",
       "      <td>143.85</td>\n",
       "      <td>21.54</td>\n",
       "      <td>46.14</td>\n",
       "      <td>187.55</td>\n",
       "      <td>16.73</td>\n",
       "      <td>31.2</td>\n",
       "    </tr>\n",
       "    <tr>\n",
       "      <th>Actual</th>\n",
       "      <td>104.41</td>\n",
       "      <td>188.93</td>\n",
       "      <td>143.56</td>\n",
       "      <td>275.64</td>\n",
       "      <td>40.32</td>\n",
       "      <td>119.51</td>\n",
       "      <td>102.29</td>\n",
       "      <td>129.72</td>\n",
       "      <td>88.96</td>\n",
       "      <td>200.19</td>\n",
       "      <td>...</td>\n",
       "      <td>126.41</td>\n",
       "      <td>287.05</td>\n",
       "      <td>156.25</td>\n",
       "      <td>94.38</td>\n",
       "      <td>143.85</td>\n",
       "      <td>21.54</td>\n",
       "      <td>46.14</td>\n",
       "      <td>187.55</td>\n",
       "      <td>16.73</td>\n",
       "      <td>31.2</td>\n",
       "    </tr>\n",
       "  </tbody>\n",
       "</table>\n",
       "<p>2 rows × 182 columns</p>\n",
       "</div>"
      ],
      "text/plain": [
       "              0       1       2       3      4       5       6       7    \\\n",
       "Predicted  104.41  188.93  143.56  275.64  40.32  119.51  102.29  129.72   \n",
       "Actual     104.41  188.93  143.56  275.64  40.32  119.51  102.29  129.72   \n",
       "\n",
       "             8       9    ...     172     173     174    175     176    177  \\\n",
       "Predicted  88.96  200.19  ...  126.41  287.05  156.25  94.38  143.85  21.54   \n",
       "Actual     88.96  200.19  ...  126.41  287.05  156.25  94.38  143.85  21.54   \n",
       "\n",
       "             178     179    180   181  \n",
       "Predicted  46.14  187.55  16.73  31.2  \n",
       "Actual     46.14  187.55  16.73  31.2  \n",
       "\n",
       "[2 rows x 182 columns]"
      ]
     },
     "execution_count": 103,
     "metadata": {},
     "output_type": "execute_result"
    }
   ],
   "source": [
    "conclusion=pd.DataFrame([Final_model.predict(x1_test)[:],pred_rf1[:]],index=[\"Predicted\",\"Actual\"])\n",
    "conclusion"
   ]
  },
  {
   "cell_type": "markdown",
   "metadata": {},
   "source": [
    "Predicted values and Actual values are same"
   ]
  },
  {
   "cell_type": "code",
   "execution_count": null,
   "metadata": {},
   "outputs": [],
   "source": []
  }
 ],
 "metadata": {
  "kernelspec": {
   "display_name": "Python 3",
   "language": "python",
   "name": "python3"
  },
  "language_info": {
   "codemirror_mode": {
    "name": "ipython",
    "version": 3
   },
   "file_extension": ".py",
   "mimetype": "text/x-python",
   "name": "python",
   "nbconvert_exporter": "python",
   "pygments_lexer": "ipython3",
   "version": "3.8.5"
  }
 },
 "nbformat": 4,
 "nbformat_minor": 4
}
